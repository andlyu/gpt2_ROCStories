{
 "cells": [
  {
   "cell_type": "code",
   "execution_count": 47,
   "id": "f56469be",
   "metadata": {},
   "outputs": [],
   "source": [
    "\n",
    "import json\n",
    " \n",
    "# Opening JSON file\n",
    "f = open('test_cases/test_cases.json',)\n",
    " \n",
    "# returns JSON object as\n",
    "# a dictionary\n",
    "data = json.load(f)\n",
    " \n",
    "# Iterating through the json\n",
    "# list\n",
    "idx = []\n",
    "inputs = []\n",
    "outputs = []\n",
    "expected = []\n",
    "\n",
    "for i in data['ex']:\n",
    "    #print(i)\n",
    "    \n",
    "    idx.append(i['idx'])\n",
    "    inputs.append(i['input'])\n",
    "    outputs.append(i['prediction'])\n",
    "    expected.append(i['expected'])\n",
    " \n",
    "# Closing file\n",
    "f.close()"
   ]
  },
  {
   "cell_type": "code",
   "execution_count": 48,
   "id": "093cb3b8",
   "metadata": {},
   "outputs": [
    {
     "data": {
      "text/html": [
       "<div>\n",
       "<style scoped>\n",
       "    .dataframe tbody tr th:only-of-type {\n",
       "        vertical-align: middle;\n",
       "    }\n",
       "\n",
       "    .dataframe tbody tr th {\n",
       "        vertical-align: top;\n",
       "    }\n",
       "\n",
       "    .dataframe thead th {\n",
       "        text-align: right;\n",
       "    }\n",
       "</style>\n",
       "<table border=\"1\" class=\"dataframe\">\n",
       "  <thead>\n",
       "    <tr style=\"text-align: right;\">\n",
       "      <th></th>\n",
       "      <th>idx</th>\n",
       "      <th>input</th>\n",
       "      <th>output</th>\n",
       "      <th>expected</th>\n",
       "    </tr>\n",
       "  </thead>\n",
       "  <tbody>\n",
       "    <tr>\n",
       "      <th>0</th>\n",
       "      <td>0</td>\n",
       "      <td>[MALE] is skiing . [MALE] falls off his skis ....</td>\n",
       "      <td>[MALE] was a man was a man was a man was a ver...</td>\n",
       "      <td>[MALE] has broken his leg skiing .</td>\n",
       "    </tr>\n",
       "    <tr>\n",
       "      <th>1</th>\n",
       "      <td>1</td>\n",
       "      <td>[MALE] let his friend borrow his phone . the f...</td>\n",
       "      <td>[MALE] was a little boy's mommy was a little b...</td>\n",
       "      <td>the phone died shortly after .</td>\n",
       "    </tr>\n",
       "    <tr>\n",
       "      <th>2</th>\n",
       "      <td>2</td>\n",
       "      <td>[FEMALE] asked her boyfriend to buy some coat ...</td>\n",
       "      <td>[FEMALE] was a very nervous about to go [MALE]...</td>\n",
       "      <td>she had to go back and get the right kind .</td>\n",
       "    </tr>\n",
       "    <tr>\n",
       "      <th>3</th>\n",
       "      <td>3</td>\n",
       "      <td>[MALE] was driving to work . he got pulled ove...</td>\n",
       "      <td>[FEMALE] was a man was a man was a little girl...</td>\n",
       "      <td>[MALE] agreed to fix it and only got a warning .</td>\n",
       "    </tr>\n",
       "    <tr>\n",
       "      <th>4</th>\n",
       "      <td>4</td>\n",
       "      <td>[MALE] 's mailman was n't very competent . whe...</td>\n",
       "      <td>she was a very excited to be a very good stude...</td>\n",
       "      <td>the new mailman was happy to have [MALE] as a ...</td>\n",
       "    </tr>\n",
       "    <tr>\n",
       "      <th>5</th>\n",
       "      <td>5</td>\n",
       "      <td>[FEMALE] teaches math in oaxaca [NEUTRAL] . bu...</td>\n",
       "      <td>[FEMALE] was a little girl was a little girl, ...</td>\n",
       "      <td>they fired warning shots , but one hit annita ...</td>\n",
       "    </tr>\n",
       "    <tr>\n",
       "      <th>6</th>\n",
       "      <td>6</td>\n",
       "      <td>[FEMALE] wanted to go on a cruise . she saved ...</td>\n",
       "      <td>[FEMALE] was a man was a very good friend [FEM...</td>\n",
       "      <td>[FEMALE] was greatly distressed at her reactio...</td>\n",
       "    </tr>\n",
       "    <tr>\n",
       "      <th>7</th>\n",
       "      <td>7</td>\n",
       "      <td>the lab instructor introduced us to the class ...</td>\n",
       "      <td>[MALE] was a man was a little boy's teacher wa...</td>\n",
       "      <td>the experiment went well and i calmly drove ho...</td>\n",
       "    </tr>\n",
       "    <tr>\n",
       "      <th>8</th>\n",
       "      <td>8</td>\n",
       "      <td>[MALE] was a heavy smoker . he had tried quitt...</td>\n",
       "      <td>[MALE] was a man was a little boy's mommy was ...</td>\n",
       "      <td>[MALE] quit cold turkey the next day .</td>\n",
       "    </tr>\n",
       "    <tr>\n",
       "      <th>9</th>\n",
       "      <td>9</td>\n",
       "      <td>[MALE] went to the store . [MALE] wanted to bu...</td>\n",
       "      <td>[MALE] was a man was a man was a very good fri...</td>\n",
       "      <td>[MALE] was sad , and went to another store .</td>\n",
       "    </tr>\n",
       "    <tr>\n",
       "      <th>10</th>\n",
       "      <td>10</td>\n",
       "      <td>[FEMALE] fell from her bicycle . she bumped he...</td>\n",
       "      <td>[FEMALE] was a man was a very young man was a ...</td>\n",
       "      <td>[FEMALE] was treated for a mild concussion .</td>\n",
       "    </tr>\n",
       "    <tr>\n",
       "      <th>11</th>\n",
       "      <td>11</td>\n",
       "      <td>[FEMALE] joined a new singles club in her town...</td>\n",
       "      <td>[FEMALE] was a friend [MALE] was a little girl...</td>\n",
       "      <td>they became engaged six months later .</td>\n",
       "    </tr>\n",
       "    <tr>\n",
       "      <th>12</th>\n",
       "      <td>12</td>\n",
       "      <td>one day [FEMALE] took a trip to [NEUTRAL] . fi...</td>\n",
       "      <td>[MALE] was a little boy's mom was a very excit...</td>\n",
       "      <td>she had a great time .</td>\n",
       "    </tr>\n",
       "    <tr>\n",
       "      <th>13</th>\n",
       "      <td>13</td>\n",
       "      <td>[MALE] was the slowest on the team . he needed...</td>\n",
       "      <td>[MALE] was a man was a man was a little boy na...</td>\n",
       "      <td>he was able to join the race and he did very w...</td>\n",
       "    </tr>\n",
       "    <tr>\n",
       "      <th>14</th>\n",
       "      <td>14</td>\n",
       "      <td>[FEMALE] was moving to a new apartment today ....</td>\n",
       "      <td>[MALE] was a man was a very nervous man was a ...</td>\n",
       "      <td>[FEMALE] was happy as she slept in her new apa...</td>\n",
       "    </tr>\n",
       "    <tr>\n",
       "      <th>15</th>\n",
       "      <td>15</td>\n",
       "      <td>[FEMALE] was flying from her mom 's to her dad...</td>\n",
       "      <td>[FEMALE] was a little girl was a little girl's...</td>\n",
       "      <td>thanks to her , [FEMALE] safely made it to her...</td>\n",
       "    </tr>\n",
       "    <tr>\n",
       "      <th>16</th>\n",
       "      <td>16</td>\n",
       "      <td>[MALE] never paid attention to local elections...</td>\n",
       "      <td>[MALE] was a man was a very good friend of [MA...</td>\n",
       "      <td>[MALE] wound up winning a local seat .</td>\n",
       "    </tr>\n",
       "    <tr>\n",
       "      <th>17</th>\n",
       "      <td>17</td>\n",
       "      <td>[FEMALE] told her mother that she felt stuffed...</td>\n",
       "      <td>she was a very young man's class was a very go...</td>\n",
       "      <td>[FEMALE] recovered in the average time it take...</td>\n",
       "    </tr>\n",
       "    <tr>\n",
       "      <th>18</th>\n",
       "      <td>18</td>\n",
       "      <td>[FEMALE] 's boyfriend presented her with a bou...</td>\n",
       "      <td>[FEMALE] was a little girl was a little girl n...</td>\n",
       "      <td>[FEMALE] 's flowers stayed fresh for weeks !</td>\n",
       "    </tr>\n",
       "    <tr>\n",
       "      <th>19</th>\n",
       "      <td>19</td>\n",
       "      <td>the crowd gathered around the podium . a famou...</td>\n",
       "      <td>[FEMALE[FEMALE] was a man was a very good frie...</td>\n",
       "      <td>they were so happy to have had the opportunity...</td>\n",
       "    </tr>\n",
       "    <tr>\n",
       "      <th>20</th>\n",
       "      <td>20</td>\n",
       "      <td>[MALE] was a big fan of the band blink 182 . h...</td>\n",
       "      <td>[MALE] was a friend [MALE] was a little boy's ...</td>\n",
       "      <td>all three of them had the time of their lives .</td>\n",
       "    </tr>\n",
       "    <tr>\n",
       "      <th>21</th>\n",
       "      <td>21</td>\n",
       "      <td>[MALE] had always wanted to be a pilot . he wo...</td>\n",
       "      <td>he was a pilot, [FEMALE] was a very good stude...</td>\n",
       "      <td>[MALE] eventually became a pilot for a major a...</td>\n",
       "    </tr>\n",
       "    <tr>\n",
       "      <th>22</th>\n",
       "      <td>22</td>\n",
       "      <td>[MALE] got a shirt as a gift . he did n't real...</td>\n",
       "      <td>[FEMALE[MALE] was a man was a very excited to ...</td>\n",
       "      <td>[MALE] was able to figure it out and get store...</td>\n",
       "    </tr>\n",
       "    <tr>\n",
       "      <th>23</th>\n",
       "      <td>23</td>\n",
       "      <td>[MALE] 's passenger side window was broken . [...</td>\n",
       "      <td>[FEMALE] was a man was a man who was a very go...</td>\n",
       "      <td>[MALE] had to drive that way for months .</td>\n",
       "    </tr>\n",
       "    <tr>\n",
       "      <th>24</th>\n",
       "      <td>24</td>\n",
       "      <td>[NEUTRAL] 1st , when leases end , is called al...</td>\n",
       "      <td>[FEMALE] was a very busy man was a very good f...</td>\n",
       "      <td>he managed to pick up quite a few items .</td>\n",
       "    </tr>\n",
       "    <tr>\n",
       "      <th>25</th>\n",
       "      <td>25</td>\n",
       "      <td>[MALE] would spend hours working on his pitchi...</td>\n",
       "      <td>[FEMALE] was a little boy, [MALE] was a very g...</td>\n",
       "      <td>he started a charity to buy sports equipment f...</td>\n",
       "    </tr>\n",
       "    <tr>\n",
       "      <th>26</th>\n",
       "      <td>26</td>\n",
       "      <td>[MALE] loved gorillas a lot . in fact , he lik...</td>\n",
       "      <td>[MALE] was a good friend [MALE]'s mom was a ve...</td>\n",
       "      <td>finally , [MALE] was able to see a gorilla in ...</td>\n",
       "    </tr>\n",
       "    <tr>\n",
       "      <th>27</th>\n",
       "      <td>27</td>\n",
       "      <td>[MALE] heard a small meow outside his back doo...</td>\n",
       "      <td>[MALE] was a new friend [MALE] was a little gi...</td>\n",
       "      <td>[MALE] was excited that he now had a new pet .</td>\n",
       "    </tr>\n",
       "    <tr>\n",
       "      <th>28</th>\n",
       "      <td>28</td>\n",
       "      <td>a few weeks ago we went to a [MALE] [MALE] jaz...</td>\n",
       "      <td>[FEMALE] was a little girl was a little boy, [...</td>\n",
       "      <td>i felt sad about [MALE] , as he is very lonely .</td>\n",
       "    </tr>\n",
       "    <tr>\n",
       "      <th>29</th>\n",
       "      <td>29</td>\n",
       "      <td>[MALE] did n't like going to work meetings . h...</td>\n",
       "      <td>[FEMALE] was a little girl, [FEMALE] was a lit...</td>\n",
       "      <td>and he managed the whole meeting without speak...</td>\n",
       "    </tr>\n",
       "    <tr>\n",
       "      <th>30</th>\n",
       "      <td>30</td>\n",
       "      <td>[MALE] has always been lazy when it comes to c...</td>\n",
       "      <td>[MALE] was a very good friend [MALE] was a lit...</td>\n",
       "      <td>[MALE] was scolded by his roommate for the dir...</td>\n",
       "    </tr>\n",
       "    <tr>\n",
       "      <th>31</th>\n",
       "      <td>31</td>\n",
       "      <td>the couple loved watching beautiful scenery . ...</td>\n",
       "      <td>[FEMALE][FEMALE][MALE] was [MALE] was a very o...</td>\n",
       "      <td>they were happy to have made the trek to the b...</td>\n",
       "    </tr>\n",
       "  </tbody>\n",
       "</table>\n",
       "</div>"
      ],
      "text/plain": [
       "    idx                                              input  \\\n",
       "0     0  [MALE] is skiing . [MALE] falls off his skis ....   \n",
       "1     1  [MALE] let his friend borrow his phone . the f...   \n",
       "2     2  [FEMALE] asked her boyfriend to buy some coat ...   \n",
       "3     3  [MALE] was driving to work . he got pulled ove...   \n",
       "4     4  [MALE] 's mailman was n't very competent . whe...   \n",
       "5     5  [FEMALE] teaches math in oaxaca [NEUTRAL] . bu...   \n",
       "6     6  [FEMALE] wanted to go on a cruise . she saved ...   \n",
       "7     7  the lab instructor introduced us to the class ...   \n",
       "8     8  [MALE] was a heavy smoker . he had tried quitt...   \n",
       "9     9  [MALE] went to the store . [MALE] wanted to bu...   \n",
       "10   10  [FEMALE] fell from her bicycle . she bumped he...   \n",
       "11   11  [FEMALE] joined a new singles club in her town...   \n",
       "12   12  one day [FEMALE] took a trip to [NEUTRAL] . fi...   \n",
       "13   13  [MALE] was the slowest on the team . he needed...   \n",
       "14   14  [FEMALE] was moving to a new apartment today ....   \n",
       "15   15  [FEMALE] was flying from her mom 's to her dad...   \n",
       "16   16  [MALE] never paid attention to local elections...   \n",
       "17   17  [FEMALE] told her mother that she felt stuffed...   \n",
       "18   18  [FEMALE] 's boyfriend presented her with a bou...   \n",
       "19   19  the crowd gathered around the podium . a famou...   \n",
       "20   20  [MALE] was a big fan of the band blink 182 . h...   \n",
       "21   21  [MALE] had always wanted to be a pilot . he wo...   \n",
       "22   22  [MALE] got a shirt as a gift . he did n't real...   \n",
       "23   23  [MALE] 's passenger side window was broken . [...   \n",
       "24   24  [NEUTRAL] 1st , when leases end , is called al...   \n",
       "25   25  [MALE] would spend hours working on his pitchi...   \n",
       "26   26  [MALE] loved gorillas a lot . in fact , he lik...   \n",
       "27   27  [MALE] heard a small meow outside his back doo...   \n",
       "28   28  a few weeks ago we went to a [MALE] [MALE] jaz...   \n",
       "29   29  [MALE] did n't like going to work meetings . h...   \n",
       "30   30  [MALE] has always been lazy when it comes to c...   \n",
       "31   31  the couple loved watching beautiful scenery . ...   \n",
       "\n",
       "                                               output  \\\n",
       "0   [MALE] was a man was a man was a man was a ver...   \n",
       "1   [MALE] was a little boy's mommy was a little b...   \n",
       "2   [FEMALE] was a very nervous about to go [MALE]...   \n",
       "3   [FEMALE] was a man was a man was a little girl...   \n",
       "4   she was a very excited to be a very good stude...   \n",
       "5   [FEMALE] was a little girl was a little girl, ...   \n",
       "6   [FEMALE] was a man was a very good friend [FEM...   \n",
       "7   [MALE] was a man was a little boy's teacher wa...   \n",
       "8   [MALE] was a man was a little boy's mommy was ...   \n",
       "9   [MALE] was a man was a man was a very good fri...   \n",
       "10  [FEMALE] was a man was a very young man was a ...   \n",
       "11  [FEMALE] was a friend [MALE] was a little girl...   \n",
       "12  [MALE] was a little boy's mom was a very excit...   \n",
       "13  [MALE] was a man was a man was a little boy na...   \n",
       "14  [MALE] was a man was a very nervous man was a ...   \n",
       "15  [FEMALE] was a little girl was a little girl's...   \n",
       "16  [MALE] was a man was a very good friend of [MA...   \n",
       "17  she was a very young man's class was a very go...   \n",
       "18  [FEMALE] was a little girl was a little girl n...   \n",
       "19  [FEMALE[FEMALE] was a man was a very good frie...   \n",
       "20  [MALE] was a friend [MALE] was a little boy's ...   \n",
       "21  he was a pilot, [FEMALE] was a very good stude...   \n",
       "22  [FEMALE[MALE] was a man was a very excited to ...   \n",
       "23  [FEMALE] was a man was a man who was a very go...   \n",
       "24  [FEMALE] was a very busy man was a very good f...   \n",
       "25  [FEMALE] was a little boy, [MALE] was a very g...   \n",
       "26  [MALE] was a good friend [MALE]'s mom was a ve...   \n",
       "27  [MALE] was a new friend [MALE] was a little gi...   \n",
       "28  [FEMALE] was a little girl was a little boy, [...   \n",
       "29  [FEMALE] was a little girl, [FEMALE] was a lit...   \n",
       "30  [MALE] was a very good friend [MALE] was a lit...   \n",
       "31  [FEMALE][FEMALE][MALE] was [MALE] was a very o...   \n",
       "\n",
       "                                             expected  \n",
       "0                  [MALE] has broken his leg skiing .  \n",
       "1                      the phone died shortly after .  \n",
       "2         she had to go back and get the right kind .  \n",
       "3    [MALE] agreed to fix it and only got a warning .  \n",
       "4   the new mailman was happy to have [MALE] as a ...  \n",
       "5   they fired warning shots , but one hit annita ...  \n",
       "6   [FEMALE] was greatly distressed at her reactio...  \n",
       "7   the experiment went well and i calmly drove ho...  \n",
       "8              [MALE] quit cold turkey the next day .  \n",
       "9        [MALE] was sad , and went to another store .  \n",
       "10       [FEMALE] was treated for a mild concussion .  \n",
       "11             they became engaged six months later .  \n",
       "12                             she had a great time .  \n",
       "13  he was able to join the race and he did very w...  \n",
       "14  [FEMALE] was happy as she slept in her new apa...  \n",
       "15  thanks to her , [FEMALE] safely made it to her...  \n",
       "16             [MALE] wound up winning a local seat .  \n",
       "17  [FEMALE] recovered in the average time it take...  \n",
       "18       [FEMALE] 's flowers stayed fresh for weeks !  \n",
       "19  they were so happy to have had the opportunity...  \n",
       "20    all three of them had the time of their lives .  \n",
       "21  [MALE] eventually became a pilot for a major a...  \n",
       "22  [MALE] was able to figure it out and get store...  \n",
       "23          [MALE] had to drive that way for months .  \n",
       "24          he managed to pick up quite a few items .  \n",
       "25  he started a charity to buy sports equipment f...  \n",
       "26  finally , [MALE] was able to see a gorilla in ...  \n",
       "27     [MALE] was excited that he now had a new pet .  \n",
       "28   i felt sad about [MALE] , as he is very lonely .  \n",
       "29  and he managed the whole meeting without speak...  \n",
       "30  [MALE] was scolded by his roommate for the dir...  \n",
       "31  they were happy to have made the trek to the b...  "
      ]
     },
     "execution_count": 48,
     "metadata": {},
     "output_type": "execute_result"
    }
   ],
   "source": [
    "import pandas as pd\n",
    "df = pd.DataFrame()\n",
    "df['idx'] = idx\n",
    "df['input'] = inputs\n",
    "df['output'] = outputs\n",
    "df['expected'] = expected\n",
    "df = df.iloc[:700]\n",
    "df"
   ]
  },
  {
   "cell_type": "code",
   "execution_count": 49,
   "id": "e8a3d65d",
   "metadata": {},
   "outputs": [
    {
     "data": {
      "text/plain": [
       "<AxesSubplot:>"
      ]
     },
     "metadata": {},
     "output_type": "display_data"
    },
    {
     "data": {
      "image/png": "[encoded data removed]",
      "text/plain": [
       "<Figure size 432x288 with 1 Axes>"
      ]
     },
     "metadata": {
      "needs_background": "light"
     },
     "output_type": "display_data"
    }
   ],
   "source": [
    "display(df.expected.apply(lambda x: x.split()[0]).hist(bins = 50, xrot = 40))"
   ]
  },
  {
   "cell_type": "code",
   "execution_count": 50,
   "id": "4f1813f9",
   "metadata": {},
   "outputs": [
    {
     "data": {
      "text/plain": [
       "<AxesSubplot:>"
      ]
     },
     "metadata": {},
     "output_type": "display_data"
    },
    {
     "data": {
      "image/png": "[encoded data removed]",
      "text/plain": [
       "<Figure size 432x288 with 1 Axes>"
      ]
     },
     "metadata": {
      "needs_background": "light"
     },
     "output_type": "display_data"
    }
   ],
   "source": [
    "display(df.expected.apply(lambda x: x.split()[1]).hist(xrot = 80, bins = 50 ))"
   ]
  },
  {
   "cell_type": "code",
   "execution_count": 51,
   "id": "50e3298a",
   "metadata": {},
   "outputs": [
    {
     "data": {
      "text/plain": [
       "<AxesSubplot:>"
      ]
     },
     "metadata": {},
     "output_type": "display_data"
    },
    {
     "data": {
      "image/png": "[encoded data removed]",
      "text/plain": [
       "<Figure size 432x288 with 1 Axes>"
      ]
     },
     "metadata": {
      "needs_background": "light"
     },
     "output_type": "display_data"
    }
   ],
   "source": [
    "display(df.output.apply(lambda x: x.split()[0]).hist(bins = 50, xrot = 40))"
   ]
  },
  {
   "cell_type": "code",
   "execution_count": 52,
   "id": "c70a52c6",
   "metadata": {},
   "outputs": [
    {
     "data": {
      "text/plain": [
       "<AxesSubplot:>"
      ]
     },
     "metadata": {},
     "output_type": "display_data"
    },
    {
     "data": {
      "image/png": "[encoded data removed]",
      "text/plain": [
       "<Figure size 432x288 with 1 Axes>"
      ]
     },
     "metadata": {
      "needs_background": "light"
     },
     "output_type": "display_data"
    }
   ],
   "source": [
    "display(df.output.apply(lambda x: x.split()[1]).hist(xrot = 80, bins = 50 ))"
   ]
  },
  {
   "cell_type": "code",
   "execution_count": 59,
   "id": "ff138c51",
   "metadata": {},
   "outputs": [],
   "source": [
    "output_lens = []\n",
    "for i in range(5):\n",
    "    output_lens.append(len(df.output.apply(lambda x: x.split()[i] if len(x.split())>i else None).unique()))\n",
    "    \n",
    "expected_lens = []\n",
    "for i in range(5):\n",
    "    expected_lens.append(len(df.expected.apply(lambda x: x.split()[i] if len(x.split())>i else None).unique()))"
   ]
  },
  {
   "cell_type": "code",
   "execution_count": 62,
   "id": "586ee941",
   "metadata": {},
   "outputs": [
    {
     "name": "stdout",
     "output_type": "stream",
     "text": [
      "Printing the number of unique words at the first 5 word positions\n",
      "predicted sentence  [7, 1, 2, 8, 14] ->mean:  6.4\n"
     ]
    }
   ],
   "source": [
    "print('Printing the number of unique words at the first 5 word positions')\n",
    "print('predicted sentence ', output_lens, '->mean: ', sum(output_lens)/5)"
   ]
  },
  {
   "cell_type": "code",
   "execution_count": 63,
   "id": "724dec12",
   "metadata": {},
   "outputs": [
    {
     "name": "stdout",
     "output_type": "stream",
     "text": [
      "expected sentence  [11, 22, 25, 27, 29] ->mean:  22.8\n"
     ]
    }
   ],
   "source": [
    "print('expected sentence ', expected_lens, '->mean: ',sum(expected_lens)/5)"
   ]
  },
  {
   "cell_type": "code",
   "execution_count": null,
   "id": "2040226e",
   "metadata": {},
   "outputs": [],
   "source": []
  }
 ],
 "metadata": {
  "kernelspec": {
   "display_name": "roc_env",
   "language": "python",
   "name": "roc_env"
  },
  "language_info": {
   "codemirror_mode": {
    "name": "ipython",
    "version": 3
   },
   "file_extension": ".py",
   "mimetype": "text/x-python",
   "name": "python",
   "nbconvert_exporter": "python",
   "pygments_lexer": "ipython3",
   "version": "3.8.5"
  }
 },
 "nbformat": 4,
 "nbformat_minor": 5
}
