{
 "cells": [
  {
   "cell_type": "code",
   "execution_count": 1,
   "id": "1c0622b2-40dd-429e-bf23-2154c184921d",
   "metadata": {},
   "outputs": [],
   "source": [
    "#When converting to Python file, change display function to print function"
   ]
  },
  {
   "cell_type": "code",
   "execution_count": 2,
   "id": "1f930c20",
   "metadata": {},
   "outputs": [],
   "source": [
    "import warnings\n",
    "warnings.filterwarnings('ignore')\n",
    "import pandas as pd\n",
    "import torch\n",
    "from torch.utils.data import Dataset \n",
    "import random\n",
    "import time\n",
    "import datetime\n",
    "import random\n",
    "from transformers import GPT2LMHeadModel, GPT2Config\n",
    "import numpy as np\n",
    "from torch.utils.data import random_split\n",
    "from torch.utils.data import DataLoader, RandomSampler, SequentialSampler\n",
    "import json\n",
    "import matplotlib.pyplot as plt\n"
   ]
  },
  {
   "cell_type": "code",
   "execution_count": 3,
   "id": "840732ee-9938-4239-9c69-3235ef6978fb",
   "metadata": {},
   "outputs": [],
   "source": [
    "BATCH_SIZE = 16"
   ]
  },
  {
   "cell_type": "code",
   "execution_count": 4,
   "id": "e2ee7624",
   "metadata": {},
   "outputs": [
    {
     "data": {
      "text/html": [
       "<div>\n",
       "<style scoped>\n",
       "    .dataframe tbody tr th:only-of-type {\n",
       "        vertical-align: middle;\n",
       "    }\n",
       "\n",
       "    .dataframe tbody tr th {\n",
       "        vertical-align: top;\n",
       "    }\n",
       "\n",
       "    .dataframe thead th {\n",
       "        text-align: right;\n",
       "    }\n",
       "</style>\n",
       "<table border=\"1\" class=\"dataframe\">\n",
       "  <thead>\n",
       "    <tr style=\"text-align: right;\">\n",
       "      <th></th>\n",
       "      <th>storyid</th>\n",
       "      <th>storytitle</th>\n",
       "      <th>sentence1</th>\n",
       "      <th>sentence2</th>\n",
       "      <th>sentence3</th>\n",
       "      <th>sentence4</th>\n",
       "      <th>sentence5</th>\n",
       "      <th>full</th>\n",
       "      <th>input</th>\n",
       "    </tr>\n",
       "  </thead>\n",
       "  <tbody>\n",
       "    <tr>\n",
       "      <th>1</th>\n",
       "      <td>8bbe6d11-1e2e-413c-bf81-eaea05f4f1bd</td>\n",
       "      <td>David Drops the Weight</td>\n",
       "      <td>David noticed he had put on a lot of weight re...</td>\n",
       "      <td>He examined his habits to try and figure out t...</td>\n",
       "      <td>He realized he'd been eating too much fast foo...</td>\n",
       "      <td>He stopped going to burger places and started ...</td>\n",
       "      <td>After a few weeks, he started to feel much bet...</td>\n",
       "      <td>David noticed he had put on a lot of weight re...</td>\n",
       "      <td>David noticed he had put on a lot of weight re...</td>\n",
       "    </tr>\n",
       "    <tr>\n",
       "      <th>2</th>\n",
       "      <td>0beabab2-fb49-460e-a6e6-f35a202e3348</td>\n",
       "      <td>Frustration</td>\n",
       "      <td>Tom had a very short temper.</td>\n",
       "      <td>One day a guest made him very angry.</td>\n",
       "      <td>He punched a hole in the wall of his house.</td>\n",
       "      <td>Tom's guest became afraid and left quickly.</td>\n",
       "      <td>Tom sat on his couch filled with regret about ...</td>\n",
       "      <td>Tom had a very short temper. One day a guest m...</td>\n",
       "      <td>Tom had a very short temper. One day a guest m...</td>\n",
       "    </tr>\n",
       "    <tr>\n",
       "      <th>3</th>\n",
       "      <td>87da1a22-df0b-410c-b186-439700b70ba6</td>\n",
       "      <td>Marcus Buys Khakis</td>\n",
       "      <td>Marcus needed clothing for a business casual e...</td>\n",
       "      <td>All of his clothes were either too formal or t...</td>\n",
       "      <td>He decided to buy a pair of khakis.</td>\n",
       "      <td>The pair he bought fit him perfectly.</td>\n",
       "      <td>Marcus was happy to have the right clothes for...</td>\n",
       "      <td>Marcus needed clothing for a business casual e...</td>\n",
       "      <td>Marcus needed clothing for a business casual e...</td>\n",
       "    </tr>\n",
       "    <tr>\n",
       "      <th>4</th>\n",
       "      <td>2d16bcd6-692a-4fc0-8e7c-4a6f81d9efa9</td>\n",
       "      <td>Different Opinions</td>\n",
       "      <td>Bobby thought Bill should buy a trailer and ha...</td>\n",
       "      <td>Bill thought a truck would be better for what ...</td>\n",
       "      <td>Bobby pointed out two vehicles were much more ...</td>\n",
       "      <td>Bill was set in his ways with conventional thi...</td>\n",
       "      <td>He ended up buying the truck he wanted despite...</td>\n",
       "      <td>Bobby thought Bill should buy a trailer and ha...</td>\n",
       "      <td>Bobby thought Bill should buy a trailer and ha...</td>\n",
       "    </tr>\n",
       "    <tr>\n",
       "      <th>5</th>\n",
       "      <td>c71bb23b-7731-4233-8298-76ba6886cee1</td>\n",
       "      <td>Overcoming shortcomings</td>\n",
       "      <td>John was a pastor with a very bad memory.</td>\n",
       "      <td>He tried to memorize his sermons many days in ...</td>\n",
       "      <td>He decided to learn to sing to overcome his ha...</td>\n",
       "      <td>He then made all his sermons into music and sa...</td>\n",
       "      <td>His congregation was delighted and so was he.</td>\n",
       "      <td>John was a pastor with a very bad memory. He t...</td>\n",
       "      <td>John was a pastor with a very bad memory. He t...</td>\n",
       "    </tr>\n",
       "    <tr>\n",
       "      <th>...</th>\n",
       "      <td>...</td>\n",
       "      <td>...</td>\n",
       "      <td>...</td>\n",
       "      <td>...</td>\n",
       "      <td>...</td>\n",
       "      <td>...</td>\n",
       "      <td>...</td>\n",
       "      <td>...</td>\n",
       "      <td>...</td>\n",
       "    </tr>\n",
       "    <tr>\n",
       "      <th>52661</th>\n",
       "      <td>134e8636-3617-43d8-ba6a-9a11b3b115b1</td>\n",
       "      <td>Flavor</td>\n",
       "      <td>The man liked the flavor.</td>\n",
       "      <td>He tried to recreate it at home.</td>\n",
       "      <td>He could not get the flavor right.</td>\n",
       "      <td>He asked the owner of the recipe for help.</td>\n",
       "      <td>The owner of the flavor sold him the recipe.</td>\n",
       "      <td>The man liked the flavor. He tried to recreate...</td>\n",
       "      <td>The man liked the flavor. He tried to recreate...</td>\n",
       "    </tr>\n",
       "    <tr>\n",
       "      <th>52662</th>\n",
       "      <td>4c317f76-ca42-4024-a4c2-12ec911cf89b</td>\n",
       "      <td>After Death</td>\n",
       "      <td>After my friend's dad's funeral, I got in trou...</td>\n",
       "      <td>The principal said I wasn't allowed to leave s...</td>\n",
       "      <td>He found out I had my friend sign me out.</td>\n",
       "      <td>He told me I was getting detention.</td>\n",
       "      <td>I skipped detention all week.</td>\n",
       "      <td>After my friend's dad's funeral, I got in trou...</td>\n",
       "      <td>After my friend's dad's funeral, I got in trou...</td>\n",
       "    </tr>\n",
       "    <tr>\n",
       "      <th>52663</th>\n",
       "      <td>a18fd0d2-4d0c-4316-befe-e3d827fe699b</td>\n",
       "      <td>Janice breaks her wrist</td>\n",
       "      <td>Janice was out exercising for her big soccer g...</td>\n",
       "      <td>She was doing some drills with her legs.</td>\n",
       "      <td>While working out and exercising she slips on ...</td>\n",
       "      <td>She falls down and uses her wrist to break her...</td>\n",
       "      <td>She breaks her wrist in the process and goes t...</td>\n",
       "      <td>Janice was out exercising for her big soccer g...</td>\n",
       "      <td>Janice was out exercising for her big soccer g...</td>\n",
       "    </tr>\n",
       "    <tr>\n",
       "      <th>52664</th>\n",
       "      <td>2c14252b-4080-4fca-8765-537772018508</td>\n",
       "      <td>Jamie marries for love</td>\n",
       "      <td>Jamie is an american girl.</td>\n",
       "      <td>Jamie wants to get married to a mexican man.</td>\n",
       "      <td>Her family assumes it's because the man wants ...</td>\n",
       "      <td>Jamie insist that she is marrying him out of l...</td>\n",
       "      <td>Jamie gets married and they spent the rest of ...</td>\n",
       "      <td>Jamie is an american girl. Jamie wants to get ...</td>\n",
       "      <td>Jamie is an american girl. Jamie wants to get ...</td>\n",
       "    </tr>\n",
       "    <tr>\n",
       "      <th>52665</th>\n",
       "      <td>19d92cee-110d-4cd3-90b3-fe9aee5577f6</td>\n",
       "      <td>Orange</td>\n",
       "      <td>The orange fell from the tree.</td>\n",
       "      <td>It hit a girl on the head.</td>\n",
       "      <td>The girl looked up at the tree.</td>\n",
       "      <td>Another orange fell from the tree.</td>\n",
       "      <td>That orange broke her nose.</td>\n",
       "      <td>The orange fell from the tree. It hit a girl o...</td>\n",
       "      <td>The orange fell from the tree. It hit a girl o...</td>\n",
       "    </tr>\n",
       "  </tbody>\n",
       "</table>\n",
       "<p>52665 rows × 9 columns</p>\n",
       "</div>"
      ],
      "text/plain": [
       "0                                   storyid               storytitle  \\\n",
       "1      8bbe6d11-1e2e-413c-bf81-eaea05f4f1bd   David Drops the Weight   \n",
       "2      0beabab2-fb49-460e-a6e6-f35a202e3348              Frustration   \n",
       "3      87da1a22-df0b-410c-b186-439700b70ba6       Marcus Buys Khakis   \n",
       "4      2d16bcd6-692a-4fc0-8e7c-4a6f81d9efa9       Different Opinions   \n",
       "5      c71bb23b-7731-4233-8298-76ba6886cee1  Overcoming shortcomings   \n",
       "...                                     ...                      ...   \n",
       "52661  134e8636-3617-43d8-ba6a-9a11b3b115b1                   Flavor   \n",
       "52662  4c317f76-ca42-4024-a4c2-12ec911cf89b              After Death   \n",
       "52663  a18fd0d2-4d0c-4316-befe-e3d827fe699b  Janice breaks her wrist   \n",
       "52664  2c14252b-4080-4fca-8765-537772018508   Jamie marries for love   \n",
       "52665  19d92cee-110d-4cd3-90b3-fe9aee5577f6                   Orange   \n",
       "\n",
       "0                                              sentence1  \\\n",
       "1      David noticed he had put on a lot of weight re...   \n",
       "2                           Tom had a very short temper.   \n",
       "3      Marcus needed clothing for a business casual e...   \n",
       "4      Bobby thought Bill should buy a trailer and ha...   \n",
       "5              John was a pastor with a very bad memory.   \n",
       "...                                                  ...   \n",
       "52661                          The man liked the flavor.   \n",
       "52662  After my friend's dad's funeral, I got in trou...   \n",
       "52663  Janice was out exercising for her big soccer g...   \n",
       "52664                         Jamie is an american girl.   \n",
       "52665                     The orange fell from the tree.   \n",
       "\n",
       "0                                              sentence2  \\\n",
       "1      He examined his habits to try and figure out t...   \n",
       "2                   One day a guest made him very angry.   \n",
       "3      All of his clothes were either too formal or t...   \n",
       "4      Bill thought a truck would be better for what ...   \n",
       "5      He tried to memorize his sermons many days in ...   \n",
       "...                                                  ...   \n",
       "52661                   He tried to recreate it at home.   \n",
       "52662  The principal said I wasn't allowed to leave s...   \n",
       "52663           She was doing some drills with her legs.   \n",
       "52664       Jamie wants to get married to a mexican man.   \n",
       "52665                         It hit a girl on the head.   \n",
       "\n",
       "0                                              sentence3  \\\n",
       "1      He realized he'd been eating too much fast foo...   \n",
       "2            He punched a hole in the wall of his house.   \n",
       "3                    He decided to buy a pair of khakis.   \n",
       "4      Bobby pointed out two vehicles were much more ...   \n",
       "5      He decided to learn to sing to overcome his ha...   \n",
       "...                                                  ...   \n",
       "52661                 He could not get the flavor right.   \n",
       "52662          He found out I had my friend sign me out.   \n",
       "52663  While working out and exercising she slips on ...   \n",
       "52664  Her family assumes it's because the man wants ...   \n",
       "52665                    The girl looked up at the tree.   \n",
       "\n",
       "0                                              sentence4  \\\n",
       "1      He stopped going to burger places and started ...   \n",
       "2            Tom's guest became afraid and left quickly.   \n",
       "3                  The pair he bought fit him perfectly.   \n",
       "4      Bill was set in his ways with conventional thi...   \n",
       "5      He then made all his sermons into music and sa...   \n",
       "...                                                  ...   \n",
       "52661         He asked the owner of the recipe for help.   \n",
       "52662                He told me I was getting detention.   \n",
       "52663  She falls down and uses her wrist to break her...   \n",
       "52664  Jamie insist that she is marrying him out of l...   \n",
       "52665                 Another orange fell from the tree.   \n",
       "\n",
       "0                                              sentence5  \\\n",
       "1      After a few weeks, he started to feel much bet...   \n",
       "2      Tom sat on his couch filled with regret about ...   \n",
       "3      Marcus was happy to have the right clothes for...   \n",
       "4      He ended up buying the truck he wanted despite...   \n",
       "5          His congregation was delighted and so was he.   \n",
       "...                                                  ...   \n",
       "52661       The owner of the flavor sold him the recipe.   \n",
       "52662                      I skipped detention all week.   \n",
       "52663  She breaks her wrist in the process and goes t...   \n",
       "52664  Jamie gets married and they spent the rest of ...   \n",
       "52665                        That orange broke her nose.   \n",
       "\n",
       "0                                                   full  \\\n",
       "1      David noticed he had put on a lot of weight re...   \n",
       "2      Tom had a very short temper. One day a guest m...   \n",
       "3      Marcus needed clothing for a business casual e...   \n",
       "4      Bobby thought Bill should buy a trailer and ha...   \n",
       "5      John was a pastor with a very bad memory. He t...   \n",
       "...                                                  ...   \n",
       "52661  The man liked the flavor. He tried to recreate...   \n",
       "52662  After my friend's dad's funeral, I got in trou...   \n",
       "52663  Janice was out exercising for her big soccer g...   \n",
       "52664  Jamie is an american girl. Jamie wants to get ...   \n",
       "52665  The orange fell from the tree. It hit a girl o...   \n",
       "\n",
       "0                                                  input  \n",
       "1      David noticed he had put on a lot of weight re...  \n",
       "2      Tom had a very short temper. One day a guest m...  \n",
       "3      Marcus needed clothing for a business casual e...  \n",
       "4      Bobby thought Bill should buy a trailer and ha...  \n",
       "5      John was a pastor with a very bad memory. He t...  \n",
       "...                                                  ...  \n",
       "52661  The man liked the flavor. He tried to recreate...  \n",
       "52662  After my friend's dad's funeral, I got in trou...  \n",
       "52663  Janice was out exercising for her big soccer g...  \n",
       "52664  Jamie is an american girl. Jamie wants to get ...  \n",
       "52665  The orange fell from the tree. It hit a girl o...  \n",
       "\n",
       "[52665 rows x 9 columns]"
      ]
     },
     "execution_count": 4,
     "metadata": {},
     "output_type": "execute_result"
    }
   ],
   "source": [
    "import pandas as pd\n",
    "\n",
    "data = pd.read_csv('../Dataset/0OYkPK', sep=\",\", header=None)\n",
    "data.columns = data.iloc[0]\n",
    "data = data[1:]\n",
    "data['full'] = data['sentence1']+ \" \" + data['sentence2']+ \" \" + data['sentence3']+ \" \" + data['sentence4']+ \" \" + data['sentence5']\n",
    "data['input'] = data['sentence1']+ \" \" + data['sentence2']+ \" \" + data['sentence3']+ \" \" + data['sentence4']\n",
    "data"
   ]
  },
  {
   "cell_type": "code",
   "execution_count": 5,
   "id": "112926c4-89d3-42cd-b9b4-786549fa9612",
   "metadata": {},
   "outputs": [
    {
     "data": {
      "text/html": [
       "<div>\n",
       "<style scoped>\n",
       "    .dataframe tbody tr th:only-of-type {\n",
       "        vertical-align: middle;\n",
       "    }\n",
       "\n",
       "    .dataframe tbody tr th {\n",
       "        vertical-align: top;\n",
       "    }\n",
       "\n",
       "    .dataframe thead th {\n",
       "        text-align: right;\n",
       "    }\n",
       "</style>\n",
       "<table border=\"1\" class=\"dataframe\">\n",
       "  <thead>\n",
       "    <tr style=\"text-align: right;\">\n",
       "      <th></th>\n",
       "      <th>InputStoryid</th>\n",
       "      <th>InputSentence1</th>\n",
       "      <th>InputSentence2</th>\n",
       "      <th>InputSentence3</th>\n",
       "      <th>InputSentence4</th>\n",
       "      <th>RandomFifthSentenceQuiz1</th>\n",
       "      <th>RandomFifthSentenceQuiz2</th>\n",
       "      <th>AnswerRightEnding</th>\n",
       "      <th>InputSentence5</th>\n",
       "      <th>full</th>\n",
       "      <th>input</th>\n",
       "    </tr>\n",
       "  </thead>\n",
       "  <tbody>\n",
       "    <tr>\n",
       "      <th>1</th>\n",
       "      <td>138d5bfb-05cc-41e3-bf2c-fa85ebad14e2</td>\n",
       "      <td>Rick grew up in a troubled household.</td>\n",
       "      <td>He never found good support in family, and tur...</td>\n",
       "      <td>It wasn't long before Rick got shot in a robbery.</td>\n",
       "      <td>The incident caused him to turn a new leaf.</td>\n",
       "      <td>He is happy now.</td>\n",
       "      <td>He joined a gang.</td>\n",
       "      <td>1</td>\n",
       "      <td>He is happy now.</td>\n",
       "      <td>Rick grew up in a troubled household. He never...</td>\n",
       "      <td>Rick grew up in a troubled household. He never...</td>\n",
       "    </tr>\n",
       "    <tr>\n",
       "      <th>2</th>\n",
       "      <td>bff9f820-9605-4875-b9af-fe6f14d04256</td>\n",
       "      <td>Laverne needs to prepare something for her fri...</td>\n",
       "      <td>She decides to bake a batch of brownies.</td>\n",
       "      <td>She chooses a recipe and follows it closely.</td>\n",
       "      <td>Laverne tests one of the brownies to make sure...</td>\n",
       "      <td>The brownies are so delicious Laverne eats two...</td>\n",
       "      <td>Laverne doesn't go to her friend's party.</td>\n",
       "      <td>1</td>\n",
       "      <td>The brownies are so delicious Laverne eats two...</td>\n",
       "      <td>Laverne needs to prepare something for her fri...</td>\n",
       "      <td>Laverne needs to prepare something for her fri...</td>\n",
       "    </tr>\n",
       "    <tr>\n",
       "      <th>3</th>\n",
       "      <td>e8f628d5-9f97-40ed-8611-fc0e774673c4</td>\n",
       "      <td>Sarah had been dreaming of visiting Europe for...</td>\n",
       "      <td>She had finally saved enough for the trip.</td>\n",
       "      <td>She landed in Spain and traveled east across t...</td>\n",
       "      <td>She didn't like how different everything was.</td>\n",
       "      <td>Sarah then decided to move to Europe.</td>\n",
       "      <td>Sarah decided that she preferred her home over...</td>\n",
       "      <td>2</td>\n",
       "      <td>Sarah decided that she preferred her home over...</td>\n",
       "      <td>Sarah had been dreaming of visiting Europe for...</td>\n",
       "      <td>Sarah had been dreaming of visiting Europe for...</td>\n",
       "    </tr>\n",
       "    <tr>\n",
       "      <th>4</th>\n",
       "      <td>f5226bfe-9f26-4377-b05f-3d9568dbdec1</td>\n",
       "      <td>Gina was worried the cookie dough in the tube ...</td>\n",
       "      <td>She was very happy to find she was wrong.</td>\n",
       "      <td>The cookies from the tube were as good as from...</td>\n",
       "      <td>Gina intended to only eat 2 cookies and save t...</td>\n",
       "      <td>Gina liked the cookies so much she ate them al...</td>\n",
       "      <td>Gina gave the cookies away at her church.</td>\n",
       "      <td>1</td>\n",
       "      <td>Gina liked the cookies so much she ate them al...</td>\n",
       "      <td>Gina was worried the cookie dough in the tube ...</td>\n",
       "      <td>Gina was worried the cookie dough in the tube ...</td>\n",
       "    </tr>\n",
       "    <tr>\n",
       "      <th>5</th>\n",
       "      <td>69ac9b05-b956-402f-9fff-1f926ef9176b</td>\n",
       "      <td>It was  my final performance in marching band.</td>\n",
       "      <td>I was playing the snare drum in the band.</td>\n",
       "      <td>We played Thriller and Radar Love.</td>\n",
       "      <td>The performance was flawless.</td>\n",
       "      <td>I was very proud of my performance.</td>\n",
       "      <td>I was very ashamed of my performance.</td>\n",
       "      <td>1</td>\n",
       "      <td>I was very proud of my performance.</td>\n",
       "      <td>It was  my final performance in marching band....</td>\n",
       "      <td>It was  my final performance in marching band....</td>\n",
       "    </tr>\n",
       "    <tr>\n",
       "      <th>...</th>\n",
       "      <td>...</td>\n",
       "      <td>...</td>\n",
       "      <td>...</td>\n",
       "      <td>...</td>\n",
       "      <td>...</td>\n",
       "      <td>...</td>\n",
       "      <td>...</td>\n",
       "      <td>...</td>\n",
       "      <td>...</td>\n",
       "      <td>...</td>\n",
       "      <td>...</td>\n",
       "    </tr>\n",
       "    <tr>\n",
       "      <th>1567</th>\n",
       "      <td>9cba37ea-cc3e-4775-b044-c3d3d4983d22</td>\n",
       "      <td>When I was a kid I really wanted to play check...</td>\n",
       "      <td>I sat down with my grandpa and he taught me.</td>\n",
       "      <td>At first, he was just teaching me but it becam...</td>\n",
       "      <td>As I got older, I continued to play checkers w...</td>\n",
       "      <td>To this day I hate checkers.</td>\n",
       "      <td>I have very fond memories of checkers.</td>\n",
       "      <td>2</td>\n",
       "      <td>I have very fond memories of checkers.</td>\n",
       "      <td>When I was a kid I really wanted to play check...</td>\n",
       "      <td>When I was a kid I really wanted to play check...</td>\n",
       "    </tr>\n",
       "    <tr>\n",
       "      <th>1568</th>\n",
       "      <td>a0769cd4-45a0-492c-a566-b14b9b17cba6</td>\n",
       "      <td>Ivy wanted a cell phone like all her friends.</td>\n",
       "      <td>She saved up her money from delivering papers.</td>\n",
       "      <td>Soon she had enough for a phone.</td>\n",
       "      <td>She went shopping and selected the perfect phone.</td>\n",
       "      <td>Amy spent all of her money on clothes.</td>\n",
       "      <td>She loved her new phone.</td>\n",
       "      <td>2</td>\n",
       "      <td>She loved her new phone.</td>\n",
       "      <td>Ivy wanted a cell phone like all her friends. ...</td>\n",
       "      <td>Ivy wanted a cell phone like all her friends. ...</td>\n",
       "    </tr>\n",
       "    <tr>\n",
       "      <th>1569</th>\n",
       "      <td>40f3b904-81c7-4e92-b245-ff20840733a2</td>\n",
       "      <td>Dave walked into the grocery store.</td>\n",
       "      <td>He was going there to buy his favorite energy ...</td>\n",
       "      <td>He only had enough money to buy one can.</td>\n",
       "      <td>He reached the aisle and what he saw made him ...</td>\n",
       "      <td>Dave bought an entire case.</td>\n",
       "      <td>They were on sale.</td>\n",
       "      <td>2</td>\n",
       "      <td>They were on sale.</td>\n",
       "      <td>Dave walked into the grocery store. He was goi...</td>\n",
       "      <td>Dave walked into the grocery store. He was goi...</td>\n",
       "    </tr>\n",
       "    <tr>\n",
       "      <th>1570</th>\n",
       "      <td>1d3e5ddd-76a9-401d-8c5c-a6f5f0bd7160</td>\n",
       "      <td>Ramona was very unhappy in her job.</td>\n",
       "      <td>She asked for a raise, but was denied.</td>\n",
       "      <td>The refusal prompted her to aggressively comb ...</td>\n",
       "      <td>She found an interesting new possibility and s...</td>\n",
       "      <td>She was offered the new job at a higher salary.</td>\n",
       "      <td>Ramona had no reason to want to change jobs.</td>\n",
       "      <td>1</td>\n",
       "      <td>She was offered the new job at a higher salary.</td>\n",
       "      <td>Ramona was very unhappy in her job. She asked ...</td>\n",
       "      <td>Ramona was very unhappy in her job. She asked ...</td>\n",
       "    </tr>\n",
       "    <tr>\n",
       "      <th>1571</th>\n",
       "      <td>34ddd737-0709-4fc7-b64b-6c43eaf9f48c</td>\n",
       "      <td>I wanted to buy a video game console.</td>\n",
       "      <td>I asked my parents, and they came up with an i...</td>\n",
       "      <td>They said if I did my chores, I would be given...</td>\n",
       "      <td>I did my chores without being asked every week...</td>\n",
       "      <td>My parents gave me enough money to buy the con...</td>\n",
       "      <td>At the end of the summer I gave the money back...</td>\n",
       "      <td>1</td>\n",
       "      <td>My parents gave me enough money to buy the con...</td>\n",
       "      <td>I wanted to buy a video game console. I asked ...</td>\n",
       "      <td>I wanted to buy a video game console. I asked ...</td>\n",
       "    </tr>\n",
       "  </tbody>\n",
       "</table>\n",
       "<p>1571 rows × 11 columns</p>\n",
       "</div>"
      ],
      "text/plain": [
       "0                             InputStoryid  \\\n",
       "1     138d5bfb-05cc-41e3-bf2c-fa85ebad14e2   \n",
       "2     bff9f820-9605-4875-b9af-fe6f14d04256   \n",
       "3     e8f628d5-9f97-40ed-8611-fc0e774673c4   \n",
       "4     f5226bfe-9f26-4377-b05f-3d9568dbdec1   \n",
       "5     69ac9b05-b956-402f-9fff-1f926ef9176b   \n",
       "...                                    ...   \n",
       "1567  9cba37ea-cc3e-4775-b044-c3d3d4983d22   \n",
       "1568  a0769cd4-45a0-492c-a566-b14b9b17cba6   \n",
       "1569  40f3b904-81c7-4e92-b245-ff20840733a2   \n",
       "1570  1d3e5ddd-76a9-401d-8c5c-a6f5f0bd7160   \n",
       "1571  34ddd737-0709-4fc7-b64b-6c43eaf9f48c   \n",
       "\n",
       "0                                        InputSentence1  \\\n",
       "1                 Rick grew up in a troubled household.   \n",
       "2     Laverne needs to prepare something for her fri...   \n",
       "3     Sarah had been dreaming of visiting Europe for...   \n",
       "4     Gina was worried the cookie dough in the tube ...   \n",
       "5        It was  my final performance in marching band.   \n",
       "...                                                 ...   \n",
       "1567  When I was a kid I really wanted to play check...   \n",
       "1568      Ivy wanted a cell phone like all her friends.   \n",
       "1569                Dave walked into the grocery store.   \n",
       "1570                Ramona was very unhappy in her job.   \n",
       "1571              I wanted to buy a video game console.   \n",
       "\n",
       "0                                        InputSentence2  \\\n",
       "1     He never found good support in family, and tur...   \n",
       "2              She decides to bake a batch of brownies.   \n",
       "3            She had finally saved enough for the trip.   \n",
       "4             She was very happy to find she was wrong.   \n",
       "5             I was playing the snare drum in the band.   \n",
       "...                                                 ...   \n",
       "1567       I sat down with my grandpa and he taught me.   \n",
       "1568     She saved up her money from delivering papers.   \n",
       "1569  He was going there to buy his favorite energy ...   \n",
       "1570             She asked for a raise, but was denied.   \n",
       "1571  I asked my parents, and they came up with an i...   \n",
       "\n",
       "0                                        InputSentence3  \\\n",
       "1     It wasn't long before Rick got shot in a robbery.   \n",
       "2          She chooses a recipe and follows it closely.   \n",
       "3     She landed in Spain and traveled east across t...   \n",
       "4     The cookies from the tube were as good as from...   \n",
       "5                    We played Thriller and Radar Love.   \n",
       "...                                                 ...   \n",
       "1567  At first, he was just teaching me but it becam...   \n",
       "1568                   Soon she had enough for a phone.   \n",
       "1569           He only had enough money to buy one can.   \n",
       "1570  The refusal prompted her to aggressively comb ...   \n",
       "1571  They said if I did my chores, I would be given...   \n",
       "\n",
       "0                                        InputSentence4  \\\n",
       "1           The incident caused him to turn a new leaf.   \n",
       "2     Laverne tests one of the brownies to make sure...   \n",
       "3         She didn't like how different everything was.   \n",
       "4     Gina intended to only eat 2 cookies and save t...   \n",
       "5                         The performance was flawless.   \n",
       "...                                                 ...   \n",
       "1567  As I got older, I continued to play checkers w...   \n",
       "1568  She went shopping and selected the perfect phone.   \n",
       "1569  He reached the aisle and what he saw made him ...   \n",
       "1570  She found an interesting new possibility and s...   \n",
       "1571  I did my chores without being asked every week...   \n",
       "\n",
       "0                              RandomFifthSentenceQuiz1  \\\n",
       "1                                      He is happy now.   \n",
       "2     The brownies are so delicious Laverne eats two...   \n",
       "3                 Sarah then decided to move to Europe.   \n",
       "4     Gina liked the cookies so much she ate them al...   \n",
       "5                   I was very proud of my performance.   \n",
       "...                                                 ...   \n",
       "1567                       To this day I hate checkers.   \n",
       "1568             Amy spent all of her money on clothes.   \n",
       "1569                        Dave bought an entire case.   \n",
       "1570    She was offered the new job at a higher salary.   \n",
       "1571  My parents gave me enough money to buy the con...   \n",
       "\n",
       "0                              RandomFifthSentenceQuiz2 AnswerRightEnding  \\\n",
       "1                                     He joined a gang.                 1   \n",
       "2             Laverne doesn't go to her friend's party.                 1   \n",
       "3     Sarah decided that she preferred her home over...                 2   \n",
       "4             Gina gave the cookies away at her church.                 1   \n",
       "5                 I was very ashamed of my performance.                 1   \n",
       "...                                                 ...               ...   \n",
       "1567             I have very fond memories of checkers.                 2   \n",
       "1568                           She loved her new phone.                 2   \n",
       "1569                                 They were on sale.                 2   \n",
       "1570       Ramona had no reason to want to change jobs.                 1   \n",
       "1571  At the end of the summer I gave the money back...                 1   \n",
       "\n",
       "0                                        InputSentence5  \\\n",
       "1                                      He is happy now.   \n",
       "2     The brownies are so delicious Laverne eats two...   \n",
       "3     Sarah decided that she preferred her home over...   \n",
       "4     Gina liked the cookies so much she ate them al...   \n",
       "5                   I was very proud of my performance.   \n",
       "...                                                 ...   \n",
       "1567             I have very fond memories of checkers.   \n",
       "1568                           She loved her new phone.   \n",
       "1569                                 They were on sale.   \n",
       "1570    She was offered the new job at a higher salary.   \n",
       "1571  My parents gave me enough money to buy the con...   \n",
       "\n",
       "0                                                  full  \\\n",
       "1     Rick grew up in a troubled household. He never...   \n",
       "2     Laverne needs to prepare something for her fri...   \n",
       "3     Sarah had been dreaming of visiting Europe for...   \n",
       "4     Gina was worried the cookie dough in the tube ...   \n",
       "5     It was  my final performance in marching band....   \n",
       "...                                                 ...   \n",
       "1567  When I was a kid I really wanted to play check...   \n",
       "1568  Ivy wanted a cell phone like all her friends. ...   \n",
       "1569  Dave walked into the grocery store. He was goi...   \n",
       "1570  Ramona was very unhappy in her job. She asked ...   \n",
       "1571  I wanted to buy a video game console. I asked ...   \n",
       "\n",
       "0                                                 input  \n",
       "1     Rick grew up in a troubled household. He never...  \n",
       "2     Laverne needs to prepare something for her fri...  \n",
       "3     Sarah had been dreaming of visiting Europe for...  \n",
       "4     Gina was worried the cookie dough in the tube ...  \n",
       "5     It was  my final performance in marching band....  \n",
       "...                                                 ...  \n",
       "1567  When I was a kid I really wanted to play check...  \n",
       "1568  Ivy wanted a cell phone like all her friends. ...  \n",
       "1569  Dave walked into the grocery store. He was goi...  \n",
       "1570  Ramona was very unhappy in her job. She asked ...  \n",
       "1571  I wanted to buy a video game console. I asked ...  \n",
       "\n",
       "[1571 rows x 11 columns]"
      ]
     },
     "execution_count": 5,
     "metadata": {},
     "output_type": "execute_result"
    }
   ],
   "source": [
    "val_data = pd.read_csv('../Dataset/XWjas1', sep=\",\", header=None)\n",
    "val_data.columns = val_data.iloc[0]\n",
    "val_data = val_data[1:]\n",
    "#val_data['InputSentence5'] = val_data['RandomFifthSentenceQuiz1']\n",
    "#val_data['InputSentence5'] = val_data['RandomFifthSentenceQuiz1']\n",
    "val_data['InputSentence5']  = np.where(val_data['AnswerRightEnding']== '1', val_data['RandomFifthSentenceQuiz1'], val_data['RandomFifthSentenceQuiz2'])\n",
    "val_data['full'] = val_data['InputSentence1']+ \" \" + val_data['InputSentence2']+ \" \" + val_data['InputSentence3']+ \" \" + val_data['InputSentence4']+ \" \" + val_data['InputSentence5']\n",
    "val_data['input'] = val_data['InputSentence1']+ \" \" + val_data['InputSentence2']+ \" \" + val_data['InputSentence3']+ \" \" + val_data['InputSentence4']\n",
    "val_data"
   ]
  },
  {
   "cell_type": "code",
   "execution_count": 6,
   "id": "39f84c63",
   "metadata": {},
   "outputs": [],
   "source": [
    "with torch.cuda.device('cuda:1'):\n",
    "    torch.cuda.empty_cache()\n",
    "\n",
    "all_sentences = [x for x in data.full]#[:1000]]\n",
    "\n",
    "val_sentences = [x for x in val_data.input]#[:1000]]\n",
    "\n"
   ]
  },
  {
   "cell_type": "code",
   "execution_count": 7,
   "id": "dc5e2587",
   "metadata": {},
   "outputs": [
    {
     "data": {
      "text/plain": [
       "[\"David noticed he had put on a lot of weight recently. He examined his habits to try and figure out the reason. He realized he'd been eating too much fast food lately. He stopped going to burger places and started a vegetarian diet. After a few weeks, he started to feel much better.\",\n",
       " \"Tom had a very short temper. One day a guest made him very angry. He punched a hole in the wall of his house. Tom's guest became afraid and left quickly. Tom sat on his couch filled with regret about his actions.\",\n",
       " 'Marcus needed clothing for a business casual event. All of his clothes were either too formal or too casual. He decided to buy a pair of khakis. The pair he bought fit him perfectly. Marcus was happy to have the right clothes for the event.',\n",
       " \"Bobby thought Bill should buy a trailer and haul it with his car. Bill thought a truck would be better for what he needed. Bobby pointed out two vehicles were much more expensive. Bill was set in his ways with conventional thinking. He ended up buying the truck he wanted despite Bobby's advice.\",\n",
       " 'John was a pastor with a very bad memory. He tried to memorize his sermons many days in advance but to no avail. He decided to learn to sing to overcome his handicap. He then made all his sermons into music and sang them on Sundays. His congregation was delighted and so was he.',\n",
       " \"Melody's parents surprised her with a trip to the big aquarium. Melody took a nap during the two hour car ride to the aquarium. When they arrived, Melody was energetic and excited. At the aquarium Melody saw sharks, tropical fish and many others. After five hours at the aquarium, Melody and her family drove home.\",\n",
       " 'The math teacher announced a pop quiz as class began. While some students complained, he began passing out the quiz. I took out my pencil and began to work. About 5 minutes later, I finished. I stood up feeling confident and turned it in.',\n",
       " \"My first girlfriend i met on the internet. She lives about 4 hours away from me. Finally after 2 years we met each other. She stayed with me for a week or two. We decided we couldn't be apart so she moved in with me.\",\n",
       " \"I got Charlie Horse when I was four years old. He's a brown stuffed horse, and at 35 I still sleep with him at night. He was my best friend, and always laid at the head of my bed. I laid him next to me, smelling his soft fur every night. I liked to listen to my radio as I fell asleep cuddling him.\",\n",
       " 'Laura loved corn. So she decided to grow some in her backyard. The whole process of growing them made her very excited. But she realized that they required too much water. So Laura quickly abandoned her corn garden idea.']"
      ]
     },
     "execution_count": 7,
     "metadata": {},
     "output_type": "execute_result"
    }
   ],
   "source": [
    "all_sentences[0:10]\n"
   ]
  },
  {
   "cell_type": "code",
   "execution_count": 8,
   "id": "a9687304",
   "metadata": {},
   "outputs": [
    {
     "name": "stderr",
     "output_type": "stream",
     "text": [
      "Special tokens have been added in the vocabulary, make sure the associated word embeddings are fine-tuned or trained.\n"
     ]
    }
   ],
   "source": [
    "from transformers import GPT2Tokenizer\n",
    "#get pretrained tokenizer\n",
    "tokenizer = GPT2Tokenizer.from_pretrained('gpt2', bos_token='<sos>', pad_token='<pad>', padding_side = 'left')\n"
   ]
  },
  {
   "cell_type": "code",
   "execution_count": 9,
   "id": "c06ca0ea",
   "metadata": {},
   "outputs": [
    {
     "name": "stdout",
     "output_type": "stream",
     "text": [
      "max_len 83\n",
      "max_val 61\n"
     ]
    }
   ],
   "source": [
    "max_len = int(np.max([len(tokenizer.encode(s)) for s in all_sentences]))\n",
    "print(f\"max_len {max_len}\")\n",
    "\n",
    "max_val = int(np.max([len(tokenizer.encode(s)) for s in val_sentences]))\n",
    "print(f\"max_val {max_val}\")"
   ]
  },
  {
   "cell_type": "code",
   "execution_count": 10,
   "id": "a4c6f91c",
   "metadata": {},
   "outputs": [],
   "source": [
    "def tokenize_seq(sent,tokenizer,max_length):\n",
    "    return tokenizer('<sos>'+ sent , truncation=True, max_length=max_length, padding=\"max_length\")\n",
    "\n",
    "class JapanDataset(Dataset):\n",
    "\n",
    "    def __init__(self, sentences, tokenizer, gpt2_type=\"gpt2\", max_length=max_len):\n",
    "\n",
    "        self.tokenizer = tokenizer \n",
    "        self.input_ids = []\n",
    "        self.attn_masks = []\n",
    "\n",
    "        for sentence in sentences:      \n",
    "            encodings = tokenize_seq(sentence,tokenizer,max_length)\n",
    "\n",
    "            self.input_ids.append(torch.tensor(encodings['input_ids']))\n",
    "            self.attn_masks.append(torch.tensor(encodings['attention_mask']))\n",
    "\n",
    "    def __len__(self):\n",
    "        return len(self.input_ids)\n",
    "\n",
    "    def __getitem__(self, idx):\n",
    "        return self.input_ids[idx], self.attn_masks[idx]   \n",
    "\n",
    "def format_time(elapsed):\n",
    "    return str(datetime.timedelta(seconds=int(round((elapsed)))))"
   ]
  },
  {
   "cell_type": "code",
   "execution_count": 11,
   "id": "369fc8fb",
   "metadata": {},
   "outputs": [
    {
     "data": {
      "text/plain": [
       "48"
      ]
     },
     "execution_count": 11,
     "metadata": {},
     "output_type": "execute_result"
    }
   ],
   "source": [
    "import gc\n",
    "gc.collect()"
   ]
  },
  {
   "cell_type": "code",
   "execution_count": 12,
   "id": "aebc73eb",
   "metadata": {},
   "outputs": [
    {
     "data": {
      "text/plain": [
       "0"
      ]
     },
     "execution_count": 12,
     "metadata": {},
     "output_type": "execute_result"
    }
   ],
   "source": [
    "#create an instance of Dataset\n",
    "train_set = JapanDataset(all_sentences, tokenizer, max_length=max_len)\n",
    "val_set = JapanDataset(val_sentences, tokenizer, max_length=max_val)\n",
    "\n",
    "\n",
    "#train_set, val_set = random_split(dataset, [train_size, val_size])\n",
    "#print(\"train_size :\",train_size)\n",
    "#print(\"val_size   :\",val_size)\n",
    "\n",
    "gc.collect()"
   ]
  },
  {
   "cell_type": "code",
   "execution_count": 13,
   "id": "41dd1a09-89b4-49db-b651-f9929c8cf0a0",
   "metadata": {},
   "outputs": [
    {
     "name": "stdout",
     "output_type": "stream",
     "text": [
      "(tensor([50258, 50258, 50258, 50258, 50258, 50258, 50258, 50258, 50258, 50258,\n",
      "        50258, 50258, 50258, 50258, 50258, 50258, 50258, 50258, 50258, 50258,\n",
      "        50258, 50258, 50257, 11006,  6810,   339,   550,  1234,   319,   257,\n",
      "         1256,   286,  3463,  2904,    13,   679, 11068,   465, 13870,   284,\n",
      "         1949,   290,  3785,   503,   262,  1738,    13,   679,  6939,   339,\n",
      "         1549,   587,  6600,  1165,   881,  3049,  2057, 16537,    13,   679,\n",
      "         5025,  1016,   284, 26593,  4113,   290,  2067,   257, 24053,  5496,\n",
      "           13,  2293,   257,  1178,  2745,    11,   339,  2067,   284,  1254,\n",
      "          881,  1365,    13]), tensor([0, 0, 0, 0, 0, 0, 0, 0, 0, 0, 0, 0, 0, 0, 0, 0, 0, 0, 0, 0, 0, 0, 1, 1,\n",
      "        1, 1, 1, 1, 1, 1, 1, 1, 1, 1, 1, 1, 1, 1, 1, 1, 1, 1, 1, 1, 1, 1, 1, 1,\n",
      "        1, 1, 1, 1, 1, 1, 1, 1, 1, 1, 1, 1, 1, 1, 1, 1, 1, 1, 1, 1, 1, 1, 1, 1,\n",
      "        1, 1, 1, 1, 1, 1, 1, 1, 1, 1, 1]))\n"
     ]
    }
   ],
   "source": [
    "print(train_set[0])"
   ]
  },
  {
   "cell_type": "code",
   "execution_count": 14,
   "id": "ed553e25",
   "metadata": {},
   "outputs": [],
   "source": [
    "#define dataloaders\n",
    "train_dataloader = DataLoader(train_set,  sampler = RandomSampler(train_set), batch_size = BATCH_SIZE)\n",
    "validation_dataloader = DataLoader(val_set, sampler = SequentialSampler(val_set), batch_size = BATCH_SIZE )"
   ]
  },
  {
   "cell_type": "code",
   "execution_count": 15,
   "id": "f80d4689",
   "metadata": {},
   "outputs": [],
   "source": [
    "# Create default config\n",
    "configuration = GPT2Config.from_pretrained('gpt2', output_hidden_states=False)\n",
    "# Load pretrained gpt2\n",
    "model = GPT2LMHeadModel.from_pretrained(\"gpt2\", config=configuration)\n",
    "model.resize_token_embeddings(len(tokenizer))\n",
    "\n",
    "# Create device\n",
    "device = torch.device(\"cuda:1\")\n",
    "model.to(device)\n",
    "\n",
    "optimizer = torch.optim.Adam(model.parameters(),lr = 0.0005)\n",
    "model = model.to(device)"
   ]
  },
  {
   "cell_type": "code",
   "execution_count": 16,
   "id": "070da8d3",
   "metadata": {},
   "outputs": [],
   "source": [
    "from tqdm import tqdm\n",
    "\n",
    "#call model with a batch of input\n",
    "def process_one_batch(batch):\n",
    "    b_input_ids = batch[0].to(device)\n",
    "    b_labels = batch[0].to(device)\n",
    "    b_masks = batch[1].to(device)\n",
    "    outputs  = model(b_input_ids,  attention_mask = b_masks,labels=b_labels)\n",
    "    return outputs\n",
    "\n",
    "#call model with a batch of input\n",
    "def output_one_batch(batch):\n",
    "    b_input_ids = batch[0].to(device)\n",
    "    b_labels = batch[0].to(device)\n",
    "    b_masks = batch[1].to(device)\n",
    "    outputs  = model(b_input_ids,  num_beams=5 ,  attention_mask = b_masks,labels=b_labels)\n",
    "    return outputs\n",
    "\n",
    "#do one epoch for training\n",
    "def train_epoch():\n",
    "    t0 = time.time()\n",
    "    total_train_loss = 0\n",
    "    model.train()\n",
    "    for step, batch in enumerate(tqdm(train_dataloader)):\n",
    "\n",
    "        model.zero_grad()        \n",
    "        outputs = process_one_batch( batch)\n",
    "        loss = outputs[0]  \n",
    "        batch_loss = loss.item()\n",
    "        total_train_loss += batch_loss\n",
    "\n",
    "        loss.backward()\n",
    "        optimizer.step()\n",
    "\n",
    "\n",
    "    avg_train_loss = total_train_loss / len(train_dataloader)  \n",
    "    print(\"avg_train_loss\",avg_train_loss)  \n",
    "    elapsed_time = format_time(time.time() - t0)\n",
    "    print(\"elapsed time for 1 training epoch : \",elapsed_time)\n",
    "    return avg_train_loss\n",
    "\n",
    "#do one epoch for eval\n",
    "def eval_epoch():\n",
    "    t0 = time.time()\n",
    "    total_eval_loss = 0\n",
    "    nb_eval_steps = 0\n",
    "    # Evaluate data for one epoch\n",
    "    for batch in validation_dataloader:            \n",
    "\n",
    "        with torch.no_grad():        \n",
    "            outputs = process_one_batch(batch)\n",
    "            loss = outputs[0]              \n",
    "            batch_loss = loss.item()\n",
    "            total_eval_loss += batch_loss         \n",
    "\n",
    "    avg_val_loss = total_eval_loss / len(validation_dataloader)\n",
    "    print(\"avg_val_loss\",avg_val_loss) \n",
    "    elapsed_time = format_time(time.time() - t0)\n",
    "    print(\"elapsed time for 1 eval epoch : \",elapsed_time)\n",
    "    return avg_val_loss\n",
    "    \n",
    "\n",
    "#do one epoch for eval\n",
    "def save_results( num_batches = 15, iter = 0):\n",
    "    indexes_list = []\n",
    "    inputs_list = []\n",
    "    predicted_list = []\n",
    "    expected_list = []\n",
    "        \n",
    "    #for i in tqdm(range(num_examples)):\n",
    "    for i, batch in enumerate(tqdm(validation_dataloader)):\n",
    "        if(num_batches != None and i>num_batches):\n",
    "            break\n",
    "        # Story is:\n",
    "        #input_ids = tokenizer(val_data.input.iloc[i], return_tensors='pt')\n",
    "        #input_ids.to(device)\n",
    "        b_input_ids = batch[0].to(device)\n",
    "        \n",
    "        greedy_output = model.generate(\n",
    "                b_input_ids,  #check stars   \n",
    "                num_beams=5 ,\n",
    "                return_dict_in_generate=True, \n",
    "                output_scores=True, \n",
    "                max_length=150\n",
    "                )\n",
    "        \n",
    "        print(greedy_output['sequences'].shape)\n",
    "        output = tokenizer.batch_decode(greedy_output['sequences'])\n",
    "        len_input = len(val_data.input.iloc[i])\n",
    "        #output = tokenizer.decode(greedy_output[0], skip_special_tokens=True)\n",
    "        b_outputs = []\n",
    "        \n",
    "        for b_idx in range(BATCH_SIZE):\n",
    "            if(len(output) <= b_idx):\n",
    "                break\n",
    "            idx = BATCH_SIZE * i + b_idx\n",
    "            end_words = val_data.InputSentence4\n",
    "            in_words = val_data.input.iloc[idx]\n",
    "            #if(len(output) <= b_idx):\n",
    "            #    break\n",
    "            #b_out = output[b_idx]\n",
    "            #pred_sent = b_out[b_out.index('<sos>') + len(in_words) + 13:]\n",
    "            #if(pred_sent.find('.') != -1):\n",
    "            #    pred_sent = pred_sent[:pred_sent.index('.')+1]\n",
    "            #else:\n",
    "            #    pred_sent = pred_sent\n",
    "            \n",
    "            indexes_list.append(idx)\n",
    "            inputs_list.append(val_data.input.iloc[idx])\n",
    "            predicted_list.append(output[b_idx])\n",
    "            expected_list.append(val_data.InputSentence5.iloc[idx])\n",
    "            \n",
    "    outputs = pd.DataFrame()\n",
    "    outputs['inputs'] = inputs_list\n",
    "    outputs['predicted'] = predicted_list\n",
    "    outputs['expected'] = expected_list\n",
    "    \n",
    "    print(outputs[:5])\n",
    "\n",
    "            \n",
    "    \n",
    "    \n",
    "    data = {}\n",
    "    data['ex'] = []\n",
    "    for i in range(len(indexes_list)):\n",
    "        data['ex'].append({\n",
    "            'idx': indexes_list[i],\n",
    "            'input': inputs_list[i],\n",
    "            'prediction': predicted_list[i],\n",
    "            'expected': expected_list[i]\n",
    "\n",
    "        })\n",
    "\n",
    "    with open('test_cases'+ str(iter)+'.json', 'w') as outfile:\n",
    "        json.dump(data, outfile)"
   ]
  },
  {
   "cell_type": "code",
   "execution_count": 17,
   "id": "0f2b1ec5",
   "metadata": {},
   "outputs": [
    {
     "name": "stderr",
     "output_type": "stream",
     "text": [
      "  0%|          | 0/63 [00:00<?, ?it/s]Setting `pad_token_id` to `eos_token_id`:50256 for open-end generation.\n",
      "  2%|▏         | 1/63 [00:04<04:30,  4.37s/it]Setting `pad_token_id` to `eos_token_id`:50256 for open-end generation.\n"
     ]
    },
    {
     "name": "stdout",
     "output_type": "stream",
     "text": [
      "torch.Size([16, 150])\n"
     ]
    },
    {
     "name": "stderr",
     "output_type": "stream",
     "text": [
      "  3%|▎         | 2/63 [00:08<04:22,  4.30s/it]"
     ]
    },
    {
     "name": "stdout",
     "output_type": "stream",
     "text": [
      "torch.Size([16, 150])\n",
      "                                              inputs  \\\n",
      "0  Rick grew up in a troubled household. He never...   \n",
      "1  Laverne needs to prepare something for her fri...   \n",
      "2  Sarah had been dreaming of visiting Europe for...   \n",
      "3  Gina was worried the cookie dough in the tube ...   \n",
      "4  It was  my final performance in marching band....   \n",
      "\n",
      "                                           predicted  \\\n",
      "0  <pad> <pad> <pad> <pad> <pad> <pad> <pad> <pad...   \n",
      "1  <pad> <pad> <pad> <pad> <pad> <pad> <pad> <pad...   \n",
      "2  <pad> <pad> <pad> <pad> <pad> <pad> <pad> <pad...   \n",
      "3  <pad> <pad> <pad> <pad> <pad> <pad> <pad> <pad...   \n",
      "4  <pad> <pad> <pad> <pad> <pad> <pad> <pad> <pad...   \n",
      "\n",
      "                                            expected  \n",
      "0                                   He is happy now.  \n",
      "1  The brownies are so delicious Laverne eats two...  \n",
      "2  Sarah decided that she preferred her home over...  \n",
      "3  Gina liked the cookies so much she ate them al...  \n",
      "4                I was very proud of my performance.  \n"
     ]
    },
    {
     "name": "stderr",
     "output_type": "stream",
     "text": [
      "\n"
     ]
    }
   ],
   "source": [
    "save_results(1)"
   ]
  },
  {
   "cell_type": "code",
   "execution_count": 18,
   "id": "ccbed08d",
   "metadata": {},
   "outputs": [
    {
     "name": "stderr",
     "output_type": "stream",
     "text": [
      "100%|██████████| 63/63 [00:24<00:00,  2.62it/s]\n"
     ]
    },
    {
     "name": "stdout",
     "output_type": "stream",
     "text": [
      "avg_train_loss 6.265664282299223\n",
      "elapsed time for 1 training epoch :  0:00:24\n",
      "avg_val_loss 4.713573039524139\n",
      "elapsed time for 1 eval epoch :  0:00:05\n"
     ]
    },
    {
     "name": "stderr",
     "output_type": "stream",
     "text": [
      "  0%|          | 0/63 [00:00<?, ?it/s]Setting `pad_token_id` to `eos_token_id`:50256 for open-end generation.\n",
      "  2%|▏         | 1/63 [00:04<04:27,  4.31s/it]Setting `pad_token_id` to `eos_token_id`:50256 for open-end generation.\n"
     ]
    },
    {
     "name": "stdout",
     "output_type": "stream",
     "text": [
      "torch.Size([16, 150])\n"
     ]
    },
    {
     "name": "stderr",
     "output_type": "stream",
     "text": [
      "  3%|▎         | 2/63 [00:08<04:22,  4.30s/it]Setting `pad_token_id` to `eos_token_id`:50256 for open-end generation.\n"
     ]
    },
    {
     "name": "stdout",
     "output_type": "stream",
     "text": [
      "torch.Size([16, 150])\n"
     ]
    },
    {
     "name": "stderr",
     "output_type": "stream",
     "text": [
      "  5%|▍         | 3/63 [00:12<04:17,  4.29s/it]Setting `pad_token_id` to `eos_token_id`:50256 for open-end generation.\n"
     ]
    },
    {
     "name": "stdout",
     "output_type": "stream",
     "text": [
      "torch.Size([16, 150])\n"
     ]
    },
    {
     "name": "stderr",
     "output_type": "stream",
     "text": [
      "  6%|▋         | 4/63 [00:17<04:13,  4.30s/it]"
     ]
    },
    {
     "name": "stdout",
     "output_type": "stream",
     "text": [
      "torch.Size([16, 150])\n",
      "                                              inputs  \\\n",
      "0  Rick grew up in a troubled household. He never...   \n",
      "1  Laverne needs to prepare something for her fri...   \n",
      "2  Sarah had been dreaming of visiting Europe for...   \n",
      "3  Gina was worried the cookie dough in the tube ...   \n",
      "4  It was  my final performance in marching band....   \n",
      "\n",
      "                                           predicted  \\\n",
      "0  <pad> <pad> <pad> <pad> <pad> <pad> <pad> <pad...   \n",
      "1  <pad> <pad> <pad> <pad> <pad> <pad> <pad> <pad...   \n",
      "2  <pad> <pad> <pad> <pad> <pad> <pad> <pad> <pad...   \n",
      "3  <pad> <pad> <pad> <pad> <pad> <pad> <pad> <pad...   \n",
      "4  <pad> <pad> <pad> <pad> <pad> <pad> <pad> <pad...   \n",
      "\n",
      "                                            expected  \n",
      "0                                   He is happy now.  \n",
      "1  The brownies are so delicious Laverne eats two...  \n",
      "2  Sarah decided that she preferred her home over...  \n",
      "3  Gina liked the cookies so much she ate them al...  \n",
      "4                I was very proud of my performance.  \n"
     ]
    },
    {
     "name": "stderr",
     "output_type": "stream",
     "text": [
      "\n"
     ]
    },
    {
     "data": {
      "image/png": "[encoded data removed]",
      "text/plain": [
       "<Figure size 432x288 with 1 Axes>"
      ]
     },
     "metadata": {
      "needs_background": "light"
     },
     "output_type": "display_data"
    },
    {
     "name": "stderr",
     "output_type": "stream",
     "text": [
      "100%|██████████| 63/63 [00:25<00:00,  2.45it/s]\n"
     ]
    },
    {
     "name": "stdout",
     "output_type": "stream",
     "text": [
      "avg_train_loss 3.8900080559745667\n",
      "elapsed time for 1 training epoch :  0:00:26\n",
      "avg_val_loss 3.6408316332196433\n",
      "elapsed time for 1 eval epoch :  0:00:05\n"
     ]
    },
    {
     "name": "stderr",
     "output_type": "stream",
     "text": [
      "  0%|          | 0/63 [00:00<?, ?it/s]Setting `pad_token_id` to `eos_token_id`:50256 for open-end generation.\n",
      "  2%|▏         | 1/63 [00:04<04:37,  4.48s/it]Setting `pad_token_id` to `eos_token_id`:50256 for open-end generation.\n"
     ]
    },
    {
     "name": "stdout",
     "output_type": "stream",
     "text": [
      "torch.Size([16, 150])\n"
     ]
    },
    {
     "name": "stderr",
     "output_type": "stream",
     "text": [
      "  3%|▎         | 2/63 [00:08<04:29,  4.43s/it]Setting `pad_token_id` to `eos_token_id`:50256 for open-end generation.\n"
     ]
    },
    {
     "name": "stdout",
     "output_type": "stream",
     "text": [
      "torch.Size([16, 150])\n"
     ]
    },
    {
     "name": "stderr",
     "output_type": "stream",
     "text": [
      "  5%|▍         | 3/63 [00:13<04:23,  4.38s/it]Setting `pad_token_id` to `eos_token_id`:50256 for open-end generation.\n"
     ]
    },
    {
     "name": "stdout",
     "output_type": "stream",
     "text": [
      "torch.Size([16, 150])\n"
     ]
    },
    {
     "name": "stderr",
     "output_type": "stream",
     "text": [
      "  6%|▋         | 4/63 [00:17<04:18,  4.39s/it]"
     ]
    },
    {
     "name": "stdout",
     "output_type": "stream",
     "text": [
      "torch.Size([16, 150])\n",
      "                                              inputs  \\\n",
      "0  Rick grew up in a troubled household. He never...   \n",
      "1  Laverne needs to prepare something for her fri...   \n",
      "2  Sarah had been dreaming of visiting Europe for...   \n",
      "3  Gina was worried the cookie dough in the tube ...   \n",
      "4  It was  my final performance in marching band....   \n",
      "\n",
      "                                           predicted  \\\n",
      "0  <pad> <pad> <pad> <pad> <pad> <pad> <pad> <pad...   \n",
      "1  <pad> <pad> <pad> <pad> <pad> <pad> <pad> <pad...   \n",
      "2  <pad> <pad> <pad> <pad> <pad> <pad> <pad> <pad...   \n",
      "3  <pad> <pad> <pad> <pad> <pad> <pad> <pad> <pad...   \n",
      "4  <pad> <pad> <pad> <pad> <pad> <pad> <pad> <pad...   \n",
      "\n",
      "                                            expected  \n",
      "0                                   He is happy now.  \n",
      "1  The brownies are so delicious Laverne eats two...  \n",
      "2  Sarah decided that she preferred her home over...  \n",
      "3  Gina liked the cookies so much she ate them al...  \n",
      "4                I was very proud of my performance.  \n"
     ]
    },
    {
     "name": "stderr",
     "output_type": "stream",
     "text": [
      "\n"
     ]
    },
    {
     "data": {
      "image/png": "[encoded data removed]",
      "text/plain": [
       "<Figure size 432x288 with 1 Axes>"
      ]
     },
     "metadata": {
      "needs_background": "light"
     },
     "output_type": "display_data"
    },
    {
     "name": "stderr",
     "output_type": "stream",
     "text": [
      "100%|██████████| 63/63 [00:25<00:00,  2.46it/s]\n"
     ]
    },
    {
     "name": "stdout",
     "output_type": "stream",
     "text": [
      "avg_train_loss 2.6023035427880665\n",
      "elapsed time for 1 training epoch :  0:00:26\n",
      "avg_val_loss 2.847615680997334\n",
      "elapsed time for 1 eval epoch :  0:00:05\n"
     ]
    },
    {
     "name": "stderr",
     "output_type": "stream",
     "text": [
      "  0%|          | 0/63 [00:00<?, ?it/s]Setting `pad_token_id` to `eos_token_id`:50256 for open-end generation.\n",
      "  2%|▏         | 1/63 [00:04<04:35,  4.45s/it]Setting `pad_token_id` to `eos_token_id`:50256 for open-end generation.\n"
     ]
    },
    {
     "name": "stdout",
     "output_type": "stream",
     "text": [
      "torch.Size([16, 150])\n"
     ]
    },
    {
     "name": "stderr",
     "output_type": "stream",
     "text": [
      "  3%|▎         | 2/63 [00:08<04:26,  4.38s/it]Setting `pad_token_id` to `eos_token_id`:50256 for open-end generation.\n"
     ]
    },
    {
     "name": "stdout",
     "output_type": "stream",
     "text": [
      "torch.Size([16, 150])\n"
     ]
    },
    {
     "name": "stderr",
     "output_type": "stream",
     "text": [
      "  5%|▍         | 3/63 [00:13<04:22,  4.37s/it]Setting `pad_token_id` to `eos_token_id`:50256 for open-end generation.\n"
     ]
    },
    {
     "name": "stdout",
     "output_type": "stream",
     "text": [
      "torch.Size([16, 150])\n"
     ]
    },
    {
     "name": "stderr",
     "output_type": "stream",
     "text": [
      "  6%|▋         | 4/63 [00:17<04:17,  4.37s/it]"
     ]
    },
    {
     "name": "stdout",
     "output_type": "stream",
     "text": [
      "torch.Size([16, 150])\n",
      "                                              inputs  \\\n",
      "0  Rick grew up in a troubled household. He never...   \n",
      "1  Laverne needs to prepare something for her fri...   \n",
      "2  Sarah had been dreaming of visiting Europe for...   \n",
      "3  Gina was worried the cookie dough in the tube ...   \n",
      "4  It was  my final performance in marching band....   \n",
      "\n",
      "                                           predicted  \\\n",
      "0  <pad> <pad> <pad> <pad> <pad> <pad> <pad> <pad...   \n",
      "1  <pad> <pad> <pad> <pad> <pad> <pad> <pad> <pad...   \n",
      "2  <pad> <pad> <pad> <pad> <pad> <pad> <pad> <pad...   \n",
      "3  <pad> <pad> <pad> <pad> <pad> <pad> <pad> <pad...   \n",
      "4  <pad> <pad> <pad> <pad> <pad> <pad> <pad> <pad...   \n",
      "\n",
      "                                            expected  \n",
      "0                                   He is happy now.  \n",
      "1  The brownies are so delicious Laverne eats two...  \n",
      "2  Sarah decided that she preferred her home over...  \n",
      "3  Gina liked the cookies so much she ate them al...  \n",
      "4                I was very proud of my performance.  \n"
     ]
    },
    {
     "name": "stderr",
     "output_type": "stream",
     "text": [
      "\n"
     ]
    },
    {
     "data": {
      "image/png": "[encoded data removed]",
      "text/plain": [
       "<Figure size 432x288 with 1 Axes>"
      ]
     },
     "metadata": {
      "needs_background": "light"
     },
     "output_type": "display_data"
    },
    {
     "name": "stderr",
     "output_type": "stream",
     "text": [
      "100%|██████████| 63/63 [00:25<00:00,  2.46it/s]\n"
     ]
    },
    {
     "name": "stdout",
     "output_type": "stream",
     "text": [
      "avg_train_loss 2.053670712879726\n",
      "elapsed time for 1 training epoch :  0:00:26\n",
      "avg_val_loss 2.7081408992646234\n",
      "elapsed time for 1 eval epoch :  0:00:05\n"
     ]
    },
    {
     "name": "stderr",
     "output_type": "stream",
     "text": [
      "  0%|          | 0/63 [00:00<?, ?it/s]Setting `pad_token_id` to `eos_token_id`:50256 for open-end generation.\n",
      "  2%|▏         | 1/63 [00:04<04:33,  4.41s/it]Setting `pad_token_id` to `eos_token_id`:50256 for open-end generation.\n"
     ]
    },
    {
     "name": "stdout",
     "output_type": "stream",
     "text": [
      "torch.Size([16, 150])\n"
     ]
    },
    {
     "name": "stderr",
     "output_type": "stream",
     "text": [
      "  3%|▎         | 2/63 [00:08<04:25,  4.35s/it]Setting `pad_token_id` to `eos_token_id`:50256 for open-end generation.\n"
     ]
    },
    {
     "name": "stdout",
     "output_type": "stream",
     "text": [
      "torch.Size([16, 150])\n"
     ]
    },
    {
     "name": "stderr",
     "output_type": "stream",
     "text": [
      "  5%|▍         | 3/63 [00:13<04:20,  4.34s/it]Setting `pad_token_id` to `eos_token_id`:50256 for open-end generation.\n"
     ]
    },
    {
     "name": "stdout",
     "output_type": "stream",
     "text": [
      "torch.Size([16, 150])\n"
     ]
    },
    {
     "name": "stderr",
     "output_type": "stream",
     "text": [
      "  6%|▋         | 4/63 [00:17<04:16,  4.34s/it]"
     ]
    },
    {
     "name": "stdout",
     "output_type": "stream",
     "text": [
      "torch.Size([16, 150])\n",
      "                                              inputs  \\\n",
      "0  Rick grew up in a troubled household. He never...   \n",
      "1  Laverne needs to prepare something for her fri...   \n",
      "2  Sarah had been dreaming of visiting Europe for...   \n",
      "3  Gina was worried the cookie dough in the tube ...   \n",
      "4  It was  my final performance in marching band....   \n",
      "\n",
      "                                           predicted  \\\n",
      "0  <pad> <pad> <pad> <pad> <pad> <pad> <pad> <pad...   \n",
      "1  <pad> <pad> <pad> <pad> <pad> <pad> <pad> <pad...   \n",
      "2  <pad> <pad> <pad> <pad> <pad> <pad> <pad> <pad...   \n",
      "3  <pad> <pad> <pad> <pad> <pad> <pad> <pad> <pad...   \n",
      "4  <pad> <pad> <pad> <pad> <pad> <pad> <pad> <pad...   \n",
      "\n",
      "                                            expected  \n",
      "0                                   He is happy now.  \n",
      "1  The brownies are so delicious Laverne eats two...  \n",
      "2  Sarah decided that she preferred her home over...  \n",
      "3  Gina liked the cookies so much she ate them al...  \n",
      "4                I was very proud of my performance.  \n"
     ]
    },
    {
     "name": "stderr",
     "output_type": "stream",
     "text": [
      "\n"
     ]
    },
    {
     "data": {
      "image/png": "[encoded data removed]",
      "text/plain": [
       "<Figure size 432x288 with 1 Axes>"
      ]
     },
     "metadata": {
      "needs_background": "light"
     },
     "output_type": "display_data"
    },
    {
     "name": "stderr",
     "output_type": "stream",
     "text": [
      "100%|██████████| 63/63 [00:25<00:00,  2.47it/s]\n"
     ]
    },
    {
     "name": "stdout",
     "output_type": "stream",
     "text": [
      "avg_train_loss 1.773395027433123\n",
      "elapsed time for 1 training epoch :  0:00:25\n",
      "avg_val_loss 2.6944814295995805\n",
      "elapsed time for 1 eval epoch :  0:00:05\n"
     ]
    },
    {
     "name": "stderr",
     "output_type": "stream",
     "text": [
      "  0%|          | 0/63 [00:00<?, ?it/s]Setting `pad_token_id` to `eos_token_id`:50256 for open-end generation.\n",
      "  2%|▏         | 1/63 [00:04<04:34,  4.43s/it]Setting `pad_token_id` to `eos_token_id`:50256 for open-end generation.\n"
     ]
    },
    {
     "name": "stdout",
     "output_type": "stream",
     "text": [
      "torch.Size([16, 150])\n"
     ]
    },
    {
     "name": "stderr",
     "output_type": "stream",
     "text": [
      "  3%|▎         | 2/63 [00:08<04:25,  4.35s/it]Setting `pad_token_id` to `eos_token_id`:50256 for open-end generation.\n"
     ]
    },
    {
     "name": "stdout",
     "output_type": "stream",
     "text": [
      "torch.Size([16, 150])\n"
     ]
    },
    {
     "name": "stderr",
     "output_type": "stream",
     "text": [
      "  5%|▍         | 3/63 [00:13<04:19,  4.32s/it]Setting `pad_token_id` to `eos_token_id`:50256 for open-end generation.\n"
     ]
    },
    {
     "name": "stdout",
     "output_type": "stream",
     "text": [
      "torch.Size([16, 150])\n"
     ]
    },
    {
     "name": "stderr",
     "output_type": "stream",
     "text": [
      "  6%|▋         | 4/63 [00:17<04:15,  4.33s/it]"
     ]
    },
    {
     "name": "stdout",
     "output_type": "stream",
     "text": [
      "torch.Size([16, 150])\n",
      "                                              inputs  \\\n",
      "0  Rick grew up in a troubled household. He never...   \n",
      "1  Laverne needs to prepare something for her fri...   \n",
      "2  Sarah had been dreaming of visiting Europe for...   \n",
      "3  Gina was worried the cookie dough in the tube ...   \n",
      "4  It was  my final performance in marching band....   \n",
      "\n",
      "                                           predicted  \\\n",
      "0  <pad> <pad> <pad> <pad> <pad> <pad> <pad> <pad...   \n",
      "1  <pad> <pad> <pad> <pad> <pad> <pad> <pad> <pad...   \n",
      "2  <pad> <pad> <pad> <pad> <pad> <pad> <pad> <pad...   \n",
      "3  <pad> <pad> <pad> <pad> <pad> <pad> <pad> <pad...   \n",
      "4  <pad> <pad> <pad> <pad> <pad> <pad> <pad> <pad...   \n",
      "\n",
      "                                            expected  \n",
      "0                                   He is happy now.  \n",
      "1  The brownies are so delicious Laverne eats two...  \n",
      "2  Sarah decided that she preferred her home over...  \n",
      "3  Gina liked the cookies so much she ate them al...  \n",
      "4                I was very proud of my performance.  \n"
     ]
    },
    {
     "name": "stderr",
     "output_type": "stream",
     "text": [
      "\n"
     ]
    },
    {
     "data": {
      "image/png": "[encoded data removed]",
      "text/plain": [
       "<Figure size 432x288 with 1 Axes>"
      ]
     },
     "metadata": {
      "needs_background": "light"
     },
     "output_type": "display_data"
    },
    {
     "name": "stderr",
     "output_type": "stream",
     "text": [
      "100%|██████████| 63/63 [00:25<00:00,  2.49it/s]\n"
     ]
    },
    {
     "name": "stdout",
     "output_type": "stream",
     "text": [
      "avg_train_loss 1.5442789528104994\n",
      "elapsed time for 1 training epoch :  0:00:25\n",
      "avg_val_loss 2.760128078006563\n",
      "elapsed time for 1 eval epoch :  0:00:05\n"
     ]
    },
    {
     "name": "stderr",
     "output_type": "stream",
     "text": [
      "  0%|          | 0/63 [00:00<?, ?it/s]Setting `pad_token_id` to `eos_token_id`:50256 for open-end generation.\n",
      "  2%|▏         | 1/63 [00:04<04:34,  4.43s/it]Setting `pad_token_id` to `eos_token_id`:50256 for open-end generation.\n"
     ]
    },
    {
     "name": "stdout",
     "output_type": "stream",
     "text": [
      "torch.Size([16, 150])\n"
     ]
    },
    {
     "name": "stderr",
     "output_type": "stream",
     "text": [
      "  3%|▎         | 2/63 [00:08<04:25,  4.36s/it]Setting `pad_token_id` to `eos_token_id`:50256 for open-end generation.\n"
     ]
    },
    {
     "name": "stdout",
     "output_type": "stream",
     "text": [
      "torch.Size([16, 150])\n"
     ]
    },
    {
     "name": "stderr",
     "output_type": "stream",
     "text": [
      "  5%|▍         | 3/63 [00:13<04:19,  4.33s/it]Setting `pad_token_id` to `eos_token_id`:50256 for open-end generation.\n"
     ]
    },
    {
     "name": "stdout",
     "output_type": "stream",
     "text": [
      "torch.Size([16, 150])\n"
     ]
    },
    {
     "name": "stderr",
     "output_type": "stream",
     "text": [
      "  6%|▋         | 4/63 [00:17<04:15,  4.34s/it]"
     ]
    },
    {
     "name": "stdout",
     "output_type": "stream",
     "text": [
      "torch.Size([16, 150])\n",
      "                                              inputs  \\\n",
      "0  Rick grew up in a troubled household. He never...   \n",
      "1  Laverne needs to prepare something for her fri...   \n",
      "2  Sarah had been dreaming of visiting Europe for...   \n",
      "3  Gina was worried the cookie dough in the tube ...   \n",
      "4  It was  my final performance in marching band....   \n",
      "\n",
      "                                           predicted  \\\n",
      "0  <pad> <pad> <pad> <pad> <pad> <pad> <pad> <pad...   \n",
      "1  <pad> <pad> <pad> <pad> <pad> <pad> <pad> <pad...   \n",
      "2  <pad> <pad> <pad> <pad> <pad> <pad> <pad> <pad...   \n",
      "3  <pad> <pad> <pad> <pad> <pad> <pad> <pad> <pad...   \n",
      "4  <pad> <pad> <pad> <pad> <pad> <pad> <pad> <pad...   \n",
      "\n",
      "                                            expected  \n",
      "0                                   He is happy now.  \n",
      "1  The brownies are so delicious Laverne eats two...  \n",
      "2  Sarah decided that she preferred her home over...  \n",
      "3  Gina liked the cookies so much she ate them al...  \n",
      "4                I was very proud of my performance.  \n"
     ]
    },
    {
     "name": "stderr",
     "output_type": "stream",
     "text": [
      "\n"
     ]
    },
    {
     "data": {
      "image/png": "[encoded data removed]",
      "text/plain": [
       "<Figure size 432x288 with 1 Axes>"
      ]
     },
     "metadata": {
      "needs_background": "light"
     },
     "output_type": "display_data"
    },
    {
     "name": "stderr",
     "output_type": "stream",
     "text": [
      "100%|██████████| 63/63 [00:25<00:00,  2.48it/s]\n"
     ]
    },
    {
     "name": "stdout",
     "output_type": "stream",
     "text": [
      "avg_train_loss 1.3345899335921756\n",
      "elapsed time for 1 training epoch :  0:00:25\n"
     ]
    },
    {
     "ename": "KeyboardInterrupt",
     "evalue": "",
     "output_type": "error",
     "traceback": [
      "\u001b[0;31m---------------------------------------------------------------------------\u001b[0m",
      "\u001b[0;31mKeyboardInterrupt\u001b[0m                         Traceback (most recent call last)",
      "\u001b[0;32m<ipython-input-18-cc729b71dd9e>\u001b[0m in \u001b[0;36m<module>\u001b[0;34m\u001b[0m\n\u001b[1;32m      3\u001b[0m \u001b[0;32mfor\u001b[0m \u001b[0mi\u001b[0m \u001b[0;32min\u001b[0m \u001b[0mrange\u001b[0m\u001b[0;34m(\u001b[0m\u001b[0;36m15\u001b[0m\u001b[0;34m)\u001b[0m\u001b[0;34m:\u001b[0m\u001b[0;34m\u001b[0m\u001b[0;34m\u001b[0m\u001b[0m\n\u001b[1;32m      4\u001b[0m     \u001b[0mtrain_loss\u001b[0m\u001b[0;34m.\u001b[0m\u001b[0mappend\u001b[0m\u001b[0;34m(\u001b[0m\u001b[0mtrain_epoch\u001b[0m\u001b[0;34m(\u001b[0m\u001b[0;34m)\u001b[0m\u001b[0;34m)\u001b[0m\u001b[0;34m\u001b[0m\u001b[0;34m\u001b[0m\u001b[0m\n\u001b[0;32m----> 5\u001b[0;31m     \u001b[0mval_loss\u001b[0m\u001b[0;34m.\u001b[0m\u001b[0mappend\u001b[0m\u001b[0;34m(\u001b[0m\u001b[0meval_epoch\u001b[0m\u001b[0;34m(\u001b[0m\u001b[0;34m)\u001b[0m\u001b[0;34m)\u001b[0m\u001b[0;34m\u001b[0m\u001b[0;34m\u001b[0m\u001b[0m\n\u001b[0m\u001b[1;32m      6\u001b[0m     \u001b[0msave_results\u001b[0m\u001b[0;34m(\u001b[0m\u001b[0;36m3\u001b[0m\u001b[0;34m)\u001b[0m\u001b[0;34m\u001b[0m\u001b[0;34m\u001b[0m\u001b[0m\n\u001b[1;32m      7\u001b[0m     \u001b[0;32mif\u001b[0m\u001b[0;34m(\u001b[0m\u001b[0mi\u001b[0m\u001b[0;34m>\u001b[0m\u001b[0;36m10\u001b[0m\u001b[0;34m)\u001b[0m\u001b[0;34m:\u001b[0m\u001b[0;34m\u001b[0m\u001b[0;34m\u001b[0m\u001b[0m\n",
      "\u001b[0;32m<ipython-input-16-b9289efe4fbd>\u001b[0m in \u001b[0;36meval_epoch\u001b[0;34m()\u001b[0m\n\u001b[1;32m     51\u001b[0m             \u001b[0moutputs\u001b[0m \u001b[0;34m=\u001b[0m \u001b[0mprocess_one_batch\u001b[0m\u001b[0;34m(\u001b[0m\u001b[0mbatch\u001b[0m\u001b[0;34m)\u001b[0m\u001b[0;34m\u001b[0m\u001b[0;34m\u001b[0m\u001b[0m\n\u001b[1;32m     52\u001b[0m             \u001b[0mloss\u001b[0m \u001b[0;34m=\u001b[0m \u001b[0moutputs\u001b[0m\u001b[0;34m[\u001b[0m\u001b[0;36m0\u001b[0m\u001b[0;34m]\u001b[0m\u001b[0;34m\u001b[0m\u001b[0;34m\u001b[0m\u001b[0m\n\u001b[0;32m---> 53\u001b[0;31m             \u001b[0mbatch_loss\u001b[0m \u001b[0;34m=\u001b[0m \u001b[0mloss\u001b[0m\u001b[0;34m.\u001b[0m\u001b[0mitem\u001b[0m\u001b[0;34m(\u001b[0m\u001b[0;34m)\u001b[0m\u001b[0;34m\u001b[0m\u001b[0;34m\u001b[0m\u001b[0m\n\u001b[0m\u001b[1;32m     54\u001b[0m             \u001b[0mtotal_eval_loss\u001b[0m \u001b[0;34m+=\u001b[0m \u001b[0mbatch_loss\u001b[0m\u001b[0;34m\u001b[0m\u001b[0;34m\u001b[0m\u001b[0m\n\u001b[1;32m     55\u001b[0m \u001b[0;34m\u001b[0m\u001b[0m\n",
      "\u001b[0;31mKeyboardInterrupt\u001b[0m: "
     ]
    }
   ],
   "source": [
    "train_loss = []\n",
    "val_loss = []\n",
    "for i in range(15):\n",
    "    train_loss.append(train_epoch())\n",
    "    val_loss.append(eval_epoch())\n",
    "    if(i<7):\n",
    "        save_results(10, i)\n",
    "    else:\n",
    "        save_results(100, i)\n",
    "    plt.plot(train_loss)\n",
    "    plt.plot(val_loss)\n",
    "    plt.show()\n",
    "    plt.savefig('losses.png')\n",
    "\n",
    "save_results(None)"
   ]
  },
  {
   "cell_type": "markdown",
   "id": "45184df4",
   "metadata": {},
   "source": [
    "##### "
   ]
  },
  {
   "cell_type": "code",
   "execution_count": null,
   "id": "cbcc58af-8b48-4aca-9965-ea9de66b0120",
   "metadata": {},
   "outputs": [],
   "source": []
  }
 ],
 "metadata": {
  "kernelspec": {
   "display_name": "gpt23",
   "language": "python",
   "name": "gpt23"
  },
  "language_info": {
   "codemirror_mode": {
    "name": "ipython",
    "version": 3
   },
   "file_extension": ".py",
   "mimetype": "text/x-python",
   "name": "python",
   "nbconvert_exporter": "python",
   "pygments_lexer": "ipython3",
   "version": "3.8.5"
  }
 },
 "nbformat": 4,
 "nbformat_minor": 5
}
