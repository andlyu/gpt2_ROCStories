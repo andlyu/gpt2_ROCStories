{
 "cells": [
  {
   "cell_type": "code",
   "execution_count": 1,
   "id": "1c0622b2-40dd-429e-bf23-2154c184921d",
   "metadata": {},
   "outputs": [],
   "source": [
    "#When converting to Python file, change display function to print function"
   ]
  },
  {
   "cell_type": "code",
   "execution_count": 2,
   "id": "1f930c20",
   "metadata": {},
   "outputs": [],
   "source": [
    "import warnings\n",
    "warnings.filterwarnings('ignore')\n",
    "import pandas as pd\n",
    "import torch\n",
    "from torch.utils.data import Dataset \n",
    "import random\n",
    "import time\n",
    "import datetime\n",
    "import random\n",
    "from transformers import GPT2LMHeadModel, GPT2Config\n",
    "import numpy as np\n",
    "from torch.utils.data import random_split\n",
    "from torch.utils.data import DataLoader, RandomSampler, SequentialSampler\n",
    "import json\n",
    "import matplotlib.pyplot as plt\n"
   ]
  },
  {
   "cell_type": "code",
   "execution_count": 3,
   "id": "840732ee-9938-4239-9c69-3235ef6978fb",
   "metadata": {},
   "outputs": [],
   "source": [
    "BATCH_SIZE = 16\n",
    "DATASET_TO_USE = \"UNION\""
   ]
  },
  {
   "cell_type": "code",
   "execution_count": 4,
   "id": "e2ee7624",
   "metadata": {},
   "outputs": [
    {
     "name": "stdout",
     "output_type": "stream",
     "text": [
      "The shapes of data and val_data\n",
      "(52665, 9)\n",
      "(1571, 11)\n"
     ]
    }
   ],
   "source": [
    "import pandas as pd\n",
    "\n",
    "data = pd.read_csv('../Dataset/0OYkPK', sep=\",\", header=None)\n",
    "data.columns = data.iloc[0]\n",
    "data = data[1:]\n",
    "data['full'] = data['sentence1']+ \" \" + data['sentence2']+ \" \" + data['sentence3']+ \" \" + data['sentence4']+ \" \" + data['sentence5']\n",
    "data['input'] = data['sentence1']+ \" \" + data['sentence2']+ \" \" + data['sentence3']+ \" \" + data['sentence4']\n",
    "\n",
    "val_data = pd.read_csv('../Dataset/XWjas1', sep=\",\", header=None)\n",
    "val_data.columns = val_data.iloc[0]\n",
    "val_data = val_data[1:]\n",
    "#val_data['InputSentence5'] = val_data['RandomFifthSentenceQuiz1']\n",
    "#val_data['InputSentence5'] = val_data['RandomFifthSentenceQuiz1']\n",
    "val_data['InputSentence5']  = np.where(val_data['AnswerRightEnding']== '1', val_data['RandomFifthSentenceQuiz1'], val_data['RandomFifthSentenceQuiz2'])\n",
    "val_data['full'] = val_data['InputSentence1']+ \" \" + val_data['InputSentence2']+ \" \" + val_data['InputSentence3']+ \" \" + val_data['InputSentence4']+ \" \" + val_data['InputSentence5']\n",
    "val_data['input'] = val_data['InputSentence1']+ \" \" + val_data['InputSentence2']+ \" \" + val_data['InputSentence3']+ \" \" + val_data['InputSentence4']\n",
    "\n",
    "print('The shapes of data and val_data')\n",
    "print(data.shape)\n",
    "print(val_data.shape)"
   ]
  },
  {
   "cell_type": "code",
   "execution_count": 5,
   "id": "a8eaaaef-fecf-4726-8473-6495c33988d9",
   "metadata": {},
   "outputs": [
    {
     "name": "stdout",
     "output_type": "stream",
     "text": [
      "The shapes of data and val_data\n",
      "(88344, 7)\n",
      "(4908, 7)\n"
     ]
    }
   ],
   "source": [
    "if(DATASET_TO_USE == 'UNION'):\n",
    "    text_file = open('../UNION/train_data/train_human.txt', \"r\") #Read UNION File\n",
    "    lines = text_file.readlines()\n",
    "    lines = [item[:-1]for item in lines]\n",
    "    text_file.close()\n",
    "\n",
    "    data = pd.DataFrame(np.reshape(lines,(-1,6))) #Convert to pandas format\n",
    "    data = data[[0,1,2,3,4]]\n",
    "    data.columns = ['sentence1','sentence2','sentence3','sentence4','sentence5']\n",
    "    data['full'] = data['sentence1']+ \" \" + data['sentence2']+ \" \" + data['sentence3']+ \" \" + data['sentence4']+ \" \" + data['sentence5']\n",
    "    data['input'] = data['sentence1']+ \" \" + data['sentence2']+ \" \" + data['sentence3']+ \" \" + data['sentence4']\n",
    "    #data\n",
    "\n",
    "    text_file = open('../UNION/train_data/dev_human.txt', \"r\") #Read UNION File\n",
    "    lines = text_file.readlines()\n",
    "    lines = [item[:-1]for item in lines]\n",
    "    text_file.close()\n",
    "\n",
    "    val_data = pd.DataFrame(np.reshape(lines,(-1,6))) #Convert to pandas format\n",
    "    val_data = val_data[[0,1,2,3,4]]\n",
    "    val_data.columns = ['InputSentence1','InputSentence2','InputSentence3','InputSentence4','InputSentence5']\n",
    "    val_data['full'] = val_data['InputSentence1']+ \" \" + val_data['InputSentence2']+ \" \" + val_data['InputSentence3']+ \" \" + val_data['InputSentence4']+ \" \" + val_data['InputSentence5']\n",
    "    val_data['input'] = val_data['InputSentence1']+ \" \" + val_data['InputSentence2']+ \" \" + val_data['InputSentence3']+ \" \" + val_data['InputSentence4']\n",
    "    val_data.full\n",
    "    \n",
    "    print('The shapes of data and val_data')\n",
    "    print(data.shape)\n",
    "    print(val_data.shape)\n",
    "else:\n",
    "    print('UNION was not loaded')"
   ]
  },
  {
   "cell_type": "code",
   "execution_count": 6,
   "id": "39f84c63",
   "metadata": {},
   "outputs": [],
   "source": [
    "with torch.cuda.device('cuda:1'):\n",
    "    torch.cuda.empty_cache()\n",
    "\n",
    "all_sentences = [x for x in data.full[:20000]]\n",
    "\n",
    "val_sentences = [x for x in val_data.input]\n",
    "\n"
   ]
  },
  {
   "cell_type": "code",
   "execution_count": 7,
   "id": "dc5e2587",
   "metadata": {},
   "outputs": [
    {
     "name": "stdout",
     "output_type": "stream",
     "text": [
      "train_len  20000\n",
      "val_len  4908\n"
     ]
    }
   ],
   "source": [
    "all_sentences[0:10]\n",
    "print('train_len ', len(all_sentences))\n",
    "print('val_len ', len(val_sentences))"
   ]
  },
  {
   "cell_type": "code",
   "execution_count": 8,
   "id": "a9687304",
   "metadata": {},
   "outputs": [
    {
     "name": "stderr",
     "output_type": "stream",
     "text": [
      "Special tokens have been added in the vocabulary, make sure the associated word embeddings are fine-tuned or trained.\n"
     ]
    }
   ],
   "source": [
    "from transformers import GPT2Tokenizer\n",
    "#get pretrained tokenizer\n",
    "tokenizer = GPT2Tokenizer.from_pretrained('gpt2', bos_token='<sos>', pad_token='<pad>', padding_side = 'left')\n"
   ]
  },
  {
   "cell_type": "code",
   "execution_count": 9,
   "id": "c06ca0ea",
   "metadata": {},
   "outputs": [
    {
     "name": "stdout",
     "output_type": "stream",
     "text": [
      "max_len 117\n",
      "max_val 101\n"
     ]
    }
   ],
   "source": [
    "max_len = int(np.max([len(tokenizer.encode(s)) for s in all_sentences]))\n",
    "print(f\"max_len {max_len}\")\n",
    "\n",
    "max_val = int(np.max([len(tokenizer.encode(s)) for s in val_sentences]))\n",
    "print(f\"max_val {max_val}\")"
   ]
  },
  {
   "cell_type": "code",
   "execution_count": 10,
   "id": "a4c6f91c",
   "metadata": {},
   "outputs": [],
   "source": [
    "def tokenize_seq(sent,tokenizer,max_length):\n",
    "    return tokenizer('<sos>'+ sent , truncation=True, max_length=max_length, padding=\"max_length\")\n",
    "\n",
    "class JapanDataset(Dataset):\n",
    "\n",
    "    def __init__(self, sentences, tokenizer, gpt2_type=\"gpt2\", max_length=max_len):\n",
    "\n",
    "        self.tokenizer = tokenizer \n",
    "        self.input_ids = []\n",
    "        self.attn_masks = []\n",
    "\n",
    "        for sentence in sentences:      \n",
    "            encodings = tokenize_seq(sentence,tokenizer,max_length)\n",
    "\n",
    "            self.input_ids.append(torch.tensor(encodings['input_ids']))\n",
    "            self.attn_masks.append(torch.tensor(encodings['attention_mask']))\n",
    "\n",
    "    def __len__(self):\n",
    "        return len(self.input_ids)\n",
    "\n",
    "    def __getitem__(self, idx):\n",
    "        return self.input_ids[idx], self.attn_masks[idx]   \n",
    "\n",
    "def format_time(elapsed):\n",
    "    return str(datetime.timedelta(seconds=int(round((elapsed)))))"
   ]
  },
  {
   "cell_type": "code",
   "execution_count": 11,
   "id": "369fc8fb",
   "metadata": {},
   "outputs": [
    {
     "data": {
      "text/plain": [
       "26"
      ]
     },
     "execution_count": 11,
     "metadata": {},
     "output_type": "execute_result"
    }
   ],
   "source": [
    "import gc\n",
    "gc.collect()"
   ]
  },
  {
   "cell_type": "code",
   "execution_count": 12,
   "id": "aebc73eb",
   "metadata": {},
   "outputs": [
    {
     "data": {
      "text/plain": [
       "0"
      ]
     },
     "execution_count": 12,
     "metadata": {},
     "output_type": "execute_result"
    }
   ],
   "source": [
    "#create an instance of Dataset\n",
    "train_set = JapanDataset(all_sentences, tokenizer, max_length=max_len)\n",
    "val_set = JapanDataset(val_sentences, tokenizer, max_length=max_val)\n",
    "\n",
    "\n",
    "#train_set, val_set = random_split(dataset, [train_size, val_size])\n",
    "#print(\"train_size :\",train_size)\n",
    "#print(\"val_size   :\",val_size)\n",
    "\n",
    "gc.collect()"
   ]
  },
  {
   "cell_type": "code",
   "execution_count": 13,
   "id": "41dd1a09-89b4-49db-b651-f9929c8cf0a0",
   "metadata": {},
   "outputs": [
    {
     "name": "stdout",
     "output_type": "stream",
     "text": [
      "(tensor([50258, 50258, 50258, 50258, 50258, 50258, 50258, 50258, 50258, 50258,\n",
      "        50258, 50258, 50258, 50258, 50258, 50258, 50258, 50258, 50258, 50258,\n",
      "        50258, 50258, 50258, 50258, 50258, 50258, 50258, 50258, 50258, 50258,\n",
      "        50258, 50258, 50258, 50258, 50258, 50258, 50258, 50258, 50258, 50258,\n",
      "        50258, 50258, 50258, 50258, 50258, 50258, 50258, 50258, 50258, 50258,\n",
      "        50258, 50258, 50258, 50258, 50258, 50258, 50258, 50258, 50258, 50258,\n",
      "        50258, 50258, 50258, 50258, 50258, 50258, 50257,    58,    44, 21358,\n",
      "           60,   705,    82,  3397,   547, 22652,   764,   685,    44, 21358,\n",
      "           60,   373, 22652,   355,   880,   764,   262,  7519,  1297,   465,\n",
      "         3397,   340,   373, 27942,   764,   465,  3397,  7247,   290,  3066,\n",
      "          284,   787,   257,  1487,   764,   484,  1392,  2405,   290,   685,\n",
      "           44, 21358,    60,   319,   257,  5496,   764]), tensor([0, 0, 0, 0, 0, 0, 0, 0, 0, 0, 0, 0, 0, 0, 0, 0, 0, 0, 0, 0, 0, 0, 0, 0,\n",
      "        0, 0, 0, 0, 0, 0, 0, 0, 0, 0, 0, 0, 0, 0, 0, 0, 0, 0, 0, 0, 0, 0, 0, 0,\n",
      "        0, 0, 0, 0, 0, 0, 0, 0, 0, 0, 0, 0, 0, 0, 0, 0, 0, 0, 1, 1, 1, 1, 1, 1,\n",
      "        1, 1, 1, 1, 1, 1, 1, 1, 1, 1, 1, 1, 1, 1, 1, 1, 1, 1, 1, 1, 1, 1, 1, 1,\n",
      "        1, 1, 1, 1, 1, 1, 1, 1, 1, 1, 1, 1, 1, 1, 1, 1, 1, 1, 1, 1, 1]))\n"
     ]
    }
   ],
   "source": [
    "print(train_set[0])"
   ]
  },
  {
   "cell_type": "code",
   "execution_count": 14,
   "id": "ed553e25",
   "metadata": {},
   "outputs": [],
   "source": [
    "#define dataloaders\n",
    "train_dataloader = DataLoader(train_set,  sampler = RandomSampler(train_set), batch_size = BATCH_SIZE)\n",
    "validation_dataloader = DataLoader(val_set, sampler = SequentialSampler(val_set), batch_size = BATCH_SIZE )"
   ]
  },
  {
   "cell_type": "code",
   "execution_count": 15,
   "id": "f80d4689",
   "metadata": {},
   "outputs": [],
   "source": [
    "# Create default config\n",
    "configuration = GPT2Config.from_pretrained('gpt2', output_hidden_states=False)\n",
    "\n",
    "# Load pretrained gpt2\n",
    "model = GPT2LMHeadModel.from_pretrained(\"gpt2\", config=configuration)\n",
    "model.resize_token_embeddings(len(tokenizer))\n",
    "\n",
    "# Create device\n",
    "device = torch.device(\"cuda:1\")\n",
    "model.to(device)\n",
    "\n",
    "optimizer = torch.optim.Adam(model.parameters(),lr = 0.000005)\n",
    "model = model.to(device)"
   ]
  },
  {
   "cell_type": "code",
   "execution_count": 16,
   "id": "070da8d3",
   "metadata": {},
   "outputs": [],
   "source": [
    "from tqdm import tqdm\n",
    "import re\n",
    "\n",
    "\n",
    "#call model with a batch of input\n",
    "def process_one_batch(batch):\n",
    "    b_input_ids = batch[0].to(device)\n",
    "    b_labels = batch[0].to(device)\n",
    "    b_masks = batch[1].to(device)\n",
    "    outputs  = model(b_input_ids,  attention_mask = b_masks,labels=b_labels)\n",
    "    return outputs\n",
    "\n",
    "#call model with a batch of input\n",
    "def output_one_batch(batch):\n",
    "    b_input_ids = batch[0].to(device)\n",
    "    b_labels = batch[0].to(device)\n",
    "    b_masks = batch[1].to(device)\n",
    "    outputs  = model(b_input_ids,  num_beams=2 ,  attention_mask = b_masks,labels=b_labels)\n",
    "    return outputs\n",
    "\n",
    "#do one epoch for training\n",
    "def train_epoch():\n",
    "    t0 = time.time()\n",
    "    total_train_loss = 0\n",
    "    model.train()\n",
    "    for step, batch in enumerate(tqdm(train_dataloader)):\n",
    "\n",
    "        model.zero_grad()        \n",
    "        outputs = process_one_batch( batch)\n",
    "        loss = outputs[0]  \n",
    "        batch_loss = loss.item()\n",
    "        total_train_loss += batch_loss\n",
    "\n",
    "        loss.backward()\n",
    "        optimizer.step()\n",
    "\n",
    "\n",
    "    avg_train_loss = total_train_loss / len(train_dataloader)  \n",
    "    print(\"avg_train_loss\",avg_train_loss)  \n",
    "    elapsed_time = format_time(time.time() - t0)\n",
    "    print(\"elapsed time for 1 training epoch : \",elapsed_time)\n",
    "    return avg_train_loss\n",
    "\n",
    "#do one epoch for eval\n",
    "def eval_epoch():\n",
    "    t0 = time.time()\n",
    "    total_eval_loss = 0\n",
    "    nb_eval_steps = 0\n",
    "    # Evaluate data for one epoch\n",
    "    for batch in validation_dataloader:            \n",
    "\n",
    "        with torch.no_grad():        \n",
    "            outputs = process_one_batch(batch)\n",
    "            loss = outputs[0]              \n",
    "            batch_loss = loss.item()\n",
    "            total_eval_loss += batch_loss         \n",
    "\n",
    "    avg_val_loss = total_eval_loss / len(validation_dataloader)\n",
    "    print(\"avg_val_loss\",avg_val_loss) \n",
    "    elapsed_time = format_time(time.time() - t0)\n",
    "    print(\"elapsed time for 1 eval epoch : \",elapsed_time)\n",
    "    return avg_val_loss\n",
    "    \n",
    "\n",
    "#Runs the model on a set number of batches and saves the results to a json file\n",
    "def save_results( num_batches = 15, iter = 0):\n",
    "    indexes_list = []\n",
    "    inputs_list = []\n",
    "    predicted_list = []\n",
    "    expected_list = []\n",
    "    \n",
    "    model.save_pretrained(\"saved_model_temp\")\n",
    "\n",
    "    #for i in tqdm(range(num_examples)):\n",
    "    for i, batch in enumerate(tqdm(validation_dataloader)):\n",
    "        if(num_batches != None and i>num_batches):\n",
    "            break\n",
    "        # Story is:\n",
    "        #input_ids = tokenizer(val_data.input.iloc[i], return_tensors='pt')\n",
    "        #input_ids.to(device)\n",
    "        b_input_ids = batch[0].to(device)\n",
    "        \n",
    "        greedy_output = model.generate(\n",
    "                b_input_ids,  #check stars   \n",
    "                num_beams=2 ,\n",
    "                return_dict_in_generate=True, \n",
    "                output_scores=True, \n",
    "                max_length=150,\n",
    "                tempterature = 5,\n",
    "                top_p = 4\n",
    "                )\n",
    "        \n",
    "        print(greedy_output['sequences'].shape)\n",
    "        output = tokenizer.batch_decode(greedy_output['sequences'])\n",
    "        len_input = len(val_data.input.iloc[i])\n",
    "        #output = tokenizer.decode(greedy_output[0], skip_special_tokens=True)\n",
    "        b_outputs = []\n",
    "        \n",
    "        for b_idx in range(BATCH_SIZE):\n",
    "            if(len(output) <= b_idx):\n",
    "                break\n",
    "            idx = BATCH_SIZE * i + b_idx\n",
    "            end_words = val_data.InputSentence4\n",
    "            in_words = val_data.input.iloc[idx]\n",
    "            \n",
    "            indexes_list.append(idx)\n",
    "            inputs_list.append(val_data.input.iloc[idx])\n",
    "            #predicted_list.append(output[b_idx])\n",
    "            if(len(re.split('\\? |! |\\. ',output[b_idx]))<5):\n",
    "                predicted_list.append('bad gen')\n",
    "            else:\n",
    "                predicted_list.append(re.split('\\? |! |\\. ',output[b_idx])[4] + '.')\n",
    "            expected_list.append(val_data.InputSentence5.iloc[idx])\n",
    "            \n",
    "    outputs = pd.DataFrame()\n",
    "    outputs['inputs'] = inputs_list\n",
    "    outputs['predicted'] = predicted_list\n",
    "    outputs['expected'] = expected_list\n",
    "    \n",
    "    print(outputs[:5])\n",
    "    \n",
    "    data = {}\n",
    "    data['ex'] = []\n",
    "    for i in range(len(indexes_list)):\n",
    "        data['ex'].append({\n",
    "            'idx': indexes_list[i],\n",
    "            'input': inputs_list[i],\n",
    "            'prediction': predicted_list[i],\n",
    "            'expected': expected_list[i]\n",
    "\n",
    "        })\n",
    "\n",
    "    with open('test_cases/test_cases'+ str(iter)+'.json', 'w') as outfile:\n",
    "        json.dump(data, outfile)"
   ]
  },
  {
   "cell_type": "code",
   "execution_count": 17,
   "id": "0f2b1ec5",
   "metadata": {},
   "outputs": [
    {
     "name": "stderr",
     "output_type": "stream",
     "text": [
      "  0%|          | 0/307 [00:00<?, ?it/s]Setting `pad_token_id` to `eos_token_id`:50256 for open-end generation.\n",
      "  0%|          | 1/307 [00:01<07:39,  1.50s/it]Setting `pad_token_id` to `eos_token_id`:50256 for open-end generation.\n"
     ]
    },
    {
     "name": "stdout",
     "output_type": "stream",
     "text": [
      "torch.Size([16, 150])\n"
     ]
    },
    {
     "name": "stderr",
     "output_type": "stream",
     "text": [
      "  1%|          | 2/307 [00:02<07:13,  1.42s/it]"
     ]
    },
    {
     "name": "stdout",
     "output_type": "stream",
     "text": [
      "torch.Size([16, 150])\n",
      "                                              inputs  \\\n",
      "0  [MALE] is skiing . [MALE] falls off his skis ....   \n",
      "1  [MALE] let his friend borrow his phone . the f...   \n",
      "2  [FEMALE] asked her boyfriend to buy some coat ...   \n",
      "3  [MALE] was driving to work . he got pulled ove...   \n",
      "4  [MALE] 's mailman was n't very competent . whe...   \n",
      "\n",
      "                                           predicted  \\\n",
      "0  <sos> <sos> <sos> <sos> <sos> <sos> <sos> <sos...   \n",
      "1  <sos> <sos> <sos> <sos> <sos> <sos> <sos> <sos...   \n",
      "2  <sos> <sos> <sos> <sos> <sos> <sos> <sos> <sos...   \n",
      "3  <sos> <sos> <sos> <sos> <sos> <sos> <sos> <sos...   \n",
      "4  <sos> <sos> <sos> <sos> <sos> <sos> <sos> <sos...   \n",
      "\n",
      "                                            expected  \n",
      "0                 [MALE] has broken his leg skiing .  \n",
      "1                     the phone died shortly after .  \n",
      "2        she had to go back and get the right kind .  \n",
      "3   [MALE] agreed to fix it and only got a warning .  \n",
      "4  the new mailman was happy to have [MALE] as a ...  \n"
     ]
    },
    {
     "name": "stderr",
     "output_type": "stream",
     "text": [
      "\n"
     ]
    }
   ],
   "source": [
    "\n",
    "save_results(1)"
   ]
  },
  {
   "cell_type": "code",
   "execution_count": 18,
   "id": "ccbed08d",
   "metadata": {},
   "outputs": [
    {
     "name": "stderr",
     "output_type": "stream",
     "text": [
      "100%|██████████| 1250/1250 [10:24<00:00,  2.00it/s]\n"
     ]
    },
    {
     "name": "stdout",
     "output_type": "stream",
     "text": [
      "avg_train_loss 3.2690387495040896\n",
      "elapsed time for 1 training epoch :  0:10:25\n",
      "avg_val_loss 2.0554845791297938\n",
      "elapsed time for 1 eval epoch :  0:00:45\n"
     ]
    },
    {
     "name": "stderr",
     "output_type": "stream",
     "text": [
      "  0%|          | 0/307 [00:00<?, ?it/s]Setting `pad_token_id` to `eos_token_id`:50256 for open-end generation.\n",
      "  0%|          | 1/307 [00:01<07:22,  1.45s/it]Setting `pad_token_id` to `eos_token_id`:50256 for open-end generation.\n"
     ]
    },
    {
     "name": "stdout",
     "output_type": "stream",
     "text": [
      "torch.Size([16, 150])\n"
     ]
    },
    {
     "name": "stderr",
     "output_type": "stream",
     "text": [
      "  1%|          | 2/307 [00:02<07:12,  1.42s/it]"
     ]
    },
    {
     "name": "stdout",
     "output_type": "stream",
     "text": [
      "torch.Size([16, 150])\n",
      "                                              inputs  \\\n",
      "0  [MALE] is skiing . [MALE] falls off his skis ....   \n",
      "1  [MALE] let his friend borrow his phone . the f...   \n",
      "2  [FEMALE] asked her boyfriend to buy some coat ...   \n",
      "3  [MALE] was driving to work . he got pulled ove...   \n",
      "4  [MALE] 's mailman was n't very competent . whe...   \n",
      "\n",
      "                                           predicted  \\\n",
      "0  <pad> M <sos> <pad> <pad> <pad> <pad> <pad> <p...   \n",
      "1  <pad> <pad> <pad> <pad> <pad> <pad> <pad> <pad...   \n",
      "2  <sos> <pad> <sos> <pad> <pad> <pad> <pad> <pad...   \n",
      "3  <sos> <pad> <pad> <pad> <pad> <pad> <pad> <pad...   \n",
      "4  <sos> <pad> <pad> [MALE] was <sos> [ <sos> ] <...   \n",
      "\n",
      "                                            expected  \n",
      "0                 [MALE] has broken his leg skiing .  \n",
      "1                     the phone died shortly after .  \n",
      "2        she had to go back and get the right kind .  \n",
      "3   [MALE] agreed to fix it and only got a warning .  \n",
      "4  the new mailman was happy to have [MALE] as a ...  \n"
     ]
    },
    {
     "name": "stderr",
     "output_type": "stream",
     "text": [
      "\n"
     ]
    },
    {
     "data": {
      "image/png": "[encoded data removed]",
      "text/plain": [
       "<Figure size 432x288 with 1 Axes>"
      ]
     },
     "metadata": {
      "needs_background": "light"
     },
     "output_type": "display_data"
    },
    {
     "name": "stderr",
     "output_type": "stream",
     "text": [
      "100%|██████████| 1250/1250 [10:24<00:00,  2.00it/s]\n"
     ]
    },
    {
     "name": "stdout",
     "output_type": "stream",
     "text": [
      "avg_train_loss 1.9996686980247498\n",
      "elapsed time for 1 training epoch :  0:10:24\n",
      "avg_val_loss 1.6065602772398957\n",
      "elapsed time for 1 eval epoch :  0:00:44\n"
     ]
    },
    {
     "name": "stderr",
     "output_type": "stream",
     "text": [
      "  0%|          | 0/307 [00:00<?, ?it/s]Setting `pad_token_id` to `eos_token_id`:50256 for open-end generation.\n",
      "  0%|          | 1/307 [00:01<07:22,  1.45s/it]Setting `pad_token_id` to `eos_token_id`:50256 for open-end generation.\n"
     ]
    },
    {
     "name": "stdout",
     "output_type": "stream",
     "text": [
      "torch.Size([16, 150])\n"
     ]
    },
    {
     "name": "stderr",
     "output_type": "stream",
     "text": [
      "  1%|          | 2/307 [00:02<07:13,  1.42s/it]"
     ]
    },
    {
     "name": "stdout",
     "output_type": "stream",
     "text": [
      "torch.Size([16, 150])\n",
      "                                              inputs  \\\n",
      "0  [MALE] is skiing . [MALE] falls off his skis ....   \n",
      "1  [MALE] let his friend borrow his phone . the f...   \n",
      "2  [FEMALE] asked her boyfriend to buy some coat ...   \n",
      "3  [MALE] was driving to work . he got pulled ove...   \n",
      "4  [MALE] 's mailman was n't very competent . whe...   \n",
      "\n",
      "                                           predicted  \\\n",
      "0      [MALE] is a little bit of a lot of ice cream.   \n",
      "1              [MALE] and he was going to the store.   \n",
      "2   [FEMALE] was a little nervous about the weather.   \n",
      "3  [MALE] and he was going to go to the police st...   \n",
      "4        [MALE] was very happy with the new mailman.   \n",
      "\n",
      "                                            expected  \n",
      "0                 [MALE] has broken his leg skiing .  \n",
      "1                     the phone died shortly after .  \n",
      "2        she had to go back and get the right kind .  \n",
      "3   [MALE] agreed to fix it and only got a warning .  \n",
      "4  the new mailman was happy to have [MALE] as a ...  \n"
     ]
    },
    {
     "name": "stderr",
     "output_type": "stream",
     "text": [
      "\n"
     ]
    },
    {
     "data": {
      "image/png": "[encoded data removed]",
      "text/plain": [
       "<Figure size 432x288 with 1 Axes>"
      ]
     },
     "metadata": {
      "needs_background": "light"
     },
     "output_type": "display_data"
    },
    {
     "name": "stderr",
     "output_type": "stream",
     "text": [
      "100%|██████████| 1250/1250 [10:24<00:00,  2.00it/s]\n"
     ]
    },
    {
     "name": "stdout",
     "output_type": "stream",
     "text": [
      "avg_train_loss 1.6681834889411926\n",
      "elapsed time for 1 training epoch :  0:10:24\n",
      "avg_val_loss 1.5003385753507334\n",
      "elapsed time for 1 eval epoch :  0:00:44\n"
     ]
    },
    {
     "name": "stderr",
     "output_type": "stream",
     "text": [
      "  0%|          | 0/307 [00:00<?, ?it/s]Setting `pad_token_id` to `eos_token_id`:50256 for open-end generation.\n",
      "  0%|          | 1/307 [00:01<07:21,  1.44s/it]Setting `pad_token_id` to `eos_token_id`:50256 for open-end generation.\n"
     ]
    },
    {
     "name": "stdout",
     "output_type": "stream",
     "text": [
      "torch.Size([16, 150])\n"
     ]
    },
    {
     "name": "stderr",
     "output_type": "stream",
     "text": [
      "  1%|          | 2/307 [00:02<07:13,  1.42s/it]"
     ]
    },
    {
     "name": "stdout",
     "output_type": "stream",
     "text": [
      "torch.Size([16, 150])\n",
      "                                              inputs  \\\n",
      "0  [MALE] is skiing . [MALE] falls off his skis ....   \n",
      "1  [MALE] let his friend borrow his phone . the f...   \n",
      "2  [FEMALE] asked her boyfriend to buy some coat ...   \n",
      "3  [MALE] was driving to work . he got pulled ove...   \n",
      "4  [MALE] 's mailman was n't very competent . whe...   \n",
      "\n",
      "                             predicted  \\\n",
      "0     [MALE] is a little bit of water.   \n",
      "1           [MALE] had a lot of money.   \n",
      "2  [FEMALE] was very nervous about it.   \n",
      "3             [MALE] was a little boy.   \n",
      "4           [MALE] had a lot of money.   \n",
      "\n",
      "                                            expected  \n",
      "0                 [MALE] has broken his leg skiing .  \n",
      "1                     the phone died shortly after .  \n",
      "2        she had to go back and get the right kind .  \n",
      "3   [MALE] agreed to fix it and only got a warning .  \n",
      "4  the new mailman was happy to have [MALE] as a ...  \n"
     ]
    },
    {
     "name": "stderr",
     "output_type": "stream",
     "text": [
      "\n"
     ]
    },
    {
     "data": {
      "image/png": "[encoded data removed]",
      "text/plain": [
       "<Figure size 432x288 with 1 Axes>"
      ]
     },
     "metadata": {
      "needs_background": "light"
     },
     "output_type": "display_data"
    },
    {
     "name": "stderr",
     "output_type": "stream",
     "text": [
      "100%|██████████| 1250/1250 [10:23<00:00,  2.01it/s]\n"
     ]
    },
    {
     "name": "stdout",
     "output_type": "stream",
     "text": [
      "avg_train_loss 1.5287298753738403\n",
      "elapsed time for 1 training epoch :  0:10:23\n",
      "avg_val_loss 1.522203573186545\n",
      "elapsed time for 1 eval epoch :  0:00:44\n"
     ]
    },
    {
     "name": "stderr",
     "output_type": "stream",
     "text": [
      "  0%|          | 0/307 [00:00<?, ?it/s]Setting `pad_token_id` to `eos_token_id`:50256 for open-end generation.\n",
      "  0%|          | 1/307 [00:01<07:22,  1.45s/it]Setting `pad_token_id` to `eos_token_id`:50256 for open-end generation.\n"
     ]
    },
    {
     "name": "stdout",
     "output_type": "stream",
     "text": [
      "torch.Size([16, 150])\n"
     ]
    },
    {
     "name": "stderr",
     "output_type": "stream",
     "text": [
      "  1%|          | 2/307 [00:02<07:12,  1.42s/it]"
     ]
    },
    {
     "name": "stdout",
     "output_type": "stream",
     "text": [
      "torch.Size([16, 150])\n",
      "                                              inputs  \\\n",
      "0  [MALE] is skiing . [MALE] falls off his skis ....   \n",
      "1  [MALE] let his friend borrow his phone . the f...   \n",
      "2  [FEMALE] asked her boyfriend to buy some coat ...   \n",
      "3  [MALE] was driving to work . he got pulled ove...   \n",
      "4  [MALE] 's mailman was n't very competent . whe...   \n",
      "\n",
      "                                           predicted  \\\n",
      "0  [MALE] was a little bit late for the first day...   \n",
      "1  [MALE] was a friend of a friend of a friend of...   \n",
      "2      [FEMALE] had a lot of money to buy a new car.   \n",
      "3  [MALE] was a friend of a friend of a friend of...   \n",
      "4          [MALE] was very happy to see the mailman.   \n",
      "\n",
      "                                            expected  \n",
      "0                 [MALE] has broken his leg skiing .  \n",
      "1                     the phone died shortly after .  \n",
      "2        she had to go back and get the right kind .  \n",
      "3   [MALE] agreed to fix it and only got a warning .  \n",
      "4  the new mailman was happy to have [MALE] as a ...  \n"
     ]
    },
    {
     "name": "stderr",
     "output_type": "stream",
     "text": [
      "\n"
     ]
    },
    {
     "data": {
      "image/png": "[encoded data removed]",
      "text/plain": [
       "<Figure size 432x288 with 1 Axes>"
      ]
     },
     "metadata": {
      "needs_background": "light"
     },
     "output_type": "display_data"
    },
    {
     "name": "stderr",
     "output_type": "stream",
     "text": [
      "100%|██████████| 1250/1250 [10:26<00:00,  2.00it/s]\n"
     ]
    },
    {
     "name": "stdout",
     "output_type": "stream",
     "text": [
      "avg_train_loss 1.4493342525482178\n",
      "elapsed time for 1 training epoch :  0:10:26\n"
     ]
    },
    {
     "ename": "KeyboardInterrupt",
     "evalue": "",
     "output_type": "error",
     "traceback": [
      "\u001b[0;31m---------------------------------------------------------------------------\u001b[0m",
      "\u001b[0;31mKeyboardInterrupt\u001b[0m                         Traceback (most recent call last)",
      "\u001b[0;32m<ipython-input-18-71a50b921e14>\u001b[0m in \u001b[0;36m<module>\u001b[0;34m\u001b[0m\n\u001b[1;32m      3\u001b[0m \u001b[0;32mfor\u001b[0m \u001b[0mi\u001b[0m \u001b[0;32min\u001b[0m \u001b[0mrange\u001b[0m\u001b[0;34m(\u001b[0m\u001b[0;36m15\u001b[0m\u001b[0;34m)\u001b[0m\u001b[0;34m:\u001b[0m\u001b[0;34m\u001b[0m\u001b[0;34m\u001b[0m\u001b[0m\n\u001b[1;32m      4\u001b[0m     \u001b[0mtrain_loss\u001b[0m\u001b[0;34m.\u001b[0m\u001b[0mappend\u001b[0m\u001b[0;34m(\u001b[0m\u001b[0mtrain_epoch\u001b[0m\u001b[0;34m(\u001b[0m\u001b[0;34m)\u001b[0m\u001b[0;34m)\u001b[0m\u001b[0;34m\u001b[0m\u001b[0;34m\u001b[0m\u001b[0m\n\u001b[0;32m----> 5\u001b[0;31m     \u001b[0mval_loss\u001b[0m\u001b[0;34m.\u001b[0m\u001b[0mappend\u001b[0m\u001b[0;34m(\u001b[0m\u001b[0meval_epoch\u001b[0m\u001b[0;34m(\u001b[0m\u001b[0;34m)\u001b[0m\u001b[0;34m)\u001b[0m\u001b[0;34m\u001b[0m\u001b[0;34m\u001b[0m\u001b[0m\n\u001b[0m\u001b[1;32m      6\u001b[0m     \u001b[0;32mif\u001b[0m\u001b[0;34m(\u001b[0m\u001b[0mi\u001b[0m\u001b[0;34m<\u001b[0m\u001b[0;36m7\u001b[0m\u001b[0;34m)\u001b[0m\u001b[0;34m:\u001b[0m\u001b[0;34m\u001b[0m\u001b[0;34m\u001b[0m\u001b[0m\n\u001b[1;32m      7\u001b[0m         \u001b[0msave_results\u001b[0m\u001b[0;34m(\u001b[0m\u001b[0;36m1\u001b[0m\u001b[0;34m,\u001b[0m \u001b[0mi\u001b[0m\u001b[0;34m)\u001b[0m\u001b[0;34m\u001b[0m\u001b[0;34m\u001b[0m\u001b[0m\n",
      "\u001b[0;32m<ipython-input-16-3cf7a6c9e555>\u001b[0m in \u001b[0;36meval_epoch\u001b[0;34m()\u001b[0m\n\u001b[1;32m     53\u001b[0m             \u001b[0moutputs\u001b[0m \u001b[0;34m=\u001b[0m \u001b[0mprocess_one_batch\u001b[0m\u001b[0;34m(\u001b[0m\u001b[0mbatch\u001b[0m\u001b[0;34m)\u001b[0m\u001b[0;34m\u001b[0m\u001b[0;34m\u001b[0m\u001b[0m\n\u001b[1;32m     54\u001b[0m             \u001b[0mloss\u001b[0m \u001b[0;34m=\u001b[0m \u001b[0moutputs\u001b[0m\u001b[0;34m[\u001b[0m\u001b[0;36m0\u001b[0m\u001b[0;34m]\u001b[0m\u001b[0;34m\u001b[0m\u001b[0;34m\u001b[0m\u001b[0m\n\u001b[0;32m---> 55\u001b[0;31m             \u001b[0mbatch_loss\u001b[0m \u001b[0;34m=\u001b[0m \u001b[0mloss\u001b[0m\u001b[0;34m.\u001b[0m\u001b[0mitem\u001b[0m\u001b[0;34m(\u001b[0m\u001b[0;34m)\u001b[0m\u001b[0;34m\u001b[0m\u001b[0;34m\u001b[0m\u001b[0m\n\u001b[0m\u001b[1;32m     56\u001b[0m             \u001b[0mtotal_eval_loss\u001b[0m \u001b[0;34m+=\u001b[0m \u001b[0mbatch_loss\u001b[0m\u001b[0;34m\u001b[0m\u001b[0;34m\u001b[0m\u001b[0m\n\u001b[1;32m     57\u001b[0m \u001b[0;34m\u001b[0m\u001b[0m\n",
      "\u001b[0;31mKeyboardInterrupt\u001b[0m: "
     ]
    },
    {
     "data": {
      "text/plain": [
       "<Figure size 432x288 with 0 Axes>"
      ]
     },
     "metadata": {},
     "output_type": "display_data"
    }
   ],
   "source": [
    "train_loss = []\n",
    "val_loss = []\n",
    "for i in range(15):\n",
    "    train_loss.append(train_epoch())\n",
    "    val_loss.append(eval_epoch())\n",
    "    if(i<7):\n",
    "        save_results(1, i)\n",
    "    else:\n",
    "        save_results(1, i)\n",
    "    plt.plot(train_loss)\n",
    "    plt.plot(val_loss)\n",
    "    plt.show()\n",
    "    plt.savefig('losses.png')\n",
    "    model.save_pretrained(\"UNION_model\")\n",
    "\n",
    "\n",
    "\n",
    "save_results(None)"
   ]
  },
  {
   "cell_type": "code",
   "execution_count": null,
   "id": "ebac5add-13fc-4431-bb79-bd250810dac0",
   "metadata": {},
   "outputs": [],
   "source": [
    "save_results(1, 0)"
   ]
  },
  {
   "cell_type": "markdown",
   "id": "45184df4",
   "metadata": {},
   "source": [
    "##### "
   ]
  },
  {
   "cell_type": "code",
   "execution_count": null,
   "id": "cbcc58af-8b48-4aca-9965-ea9de66b0120",
   "metadata": {},
   "outputs": [],
   "source": [
    "import os\n",
    "#os.makedirs(\"saved_model\")\n",
    "#model.save_pretrained(\"saved_model\")\n",
    "#model = .from_pretrained(\"path/to/awesome-name-you-picked\")"
   ]
  },
  {
   "cell_type": "code",
   "execution_count": null,
   "id": "6ee6e99e-8b05-4e01-81d6-64c69152dce1",
   "metadata": {},
   "outputs": [],
   "source": [
    "# Create default config\n",
    "#configuration = GPT2Config.from_pretrained('gpt2', output_hidden_states=False)\n",
    "# Load pretrained gpt2\n",
    "#model = GPT2LMHeadModel.from_pretrained(\"saved_model/\", config=configuration)\n",
    "\n",
    "model = GPT2LMHeadModel.from_pretrained(\"saved_model/\")#, config=configuration)\n",
    "\n",
    "\n",
    "model.resize_token_embeddings(len(tokenizer))\n",
    "\n",
    "# Create device\n",
    "device = torch.device(\"cuda:1\")\n",
    "model.to(device)\n",
    "\n",
    "optimizer = torch.optim.Adam(model.parameters(),lr = 0.0000005)\n",
    "model = model.to(device)"
   ]
  },
  {
   "cell_type": "code",
   "execution_count": null,
   "id": "7a8880e0-7f9b-4017-b579-7f8133580f90",
   "metadata": {},
   "outputs": [],
   "source": [
    "\n",
    "#do one epoch for eval\n",
    "def save_results( num_batches = 15, iter = 0):\n",
    "    indexes_list = []\n",
    "    inputs_list = []\n",
    "    predicted_list = []\n",
    "    expected_list = []\n",
    "        \n",
    "    #for i in tqdm(range(num_examples)):\n",
    "    for i, batch in enumerate(tqdm(validation_dataloader)):\n",
    "        if(num_batches != None and i>num_batches):\n",
    "            break\n",
    "        # Story is:\n",
    "        #input_ids = tokenizer(val_data.input.iloc[i], return_tensors='pt')\n",
    "        #input_ids.to(device)\n",
    "        b_input_ids = batch[0].to(device)\n",
    "        \n",
    "        greedy_output = model.generate(\n",
    "                b_input_ids,  #check stars   \n",
    "                num_beams=2 ,\n",
    "                return_dict_in_generate=True, \n",
    "                output_scores=True, \n",
    "                max_length=150,\n",
    "                #tempterature = 5,\n",
    "                top_p = 10\n",
    "                )\n",
    "        \n",
    "        print(greedy_output['sequences'].shape)\n",
    "        output = tokenizer.batch_decode(greedy_output['sequences'])\n",
    "        len_input = len(val_data.input.iloc[i])\n",
    "        #output = tokenizer.decode(greedy_output[0], skip_special_tokens=True)\n",
    "        b_outputs = []\n",
    "        \n",
    "        for b_idx in range(BATCH_SIZE):\n",
    "            if(len(output) <= b_idx):\n",
    "                break\n",
    "            idx = BATCH_SIZE * i + b_idx\n",
    "            end_words = val_data.InputSentence4\n",
    "            in_words = val_data.input.iloc[idx]\n",
    "            #if(len(output) <= b_idx):\n",
    "            #    break\n",
    "            #b_out = output[b_idx]\n",
    "            #pred_sent = b_out[b_out.index('<sos>') + len(in_words) + 13:]\n",
    "            #if(pred_sent.find('.') != -1):\n",
    "            #    pred_sent = pred_sent[:pred_sent.index('.')+1]\n",
    "            #else:\n",
    "            #    pred_sent = pred_sent\n",
    "            \n",
    "            indexes_list.append(idx)\n",
    "            inputs_list.append(val_data.input.iloc[idx])\n",
    "            #predicted_list.append(output[b_idx])\n",
    "            if(len(re.split('\\? |! |\\. ',output[b_idx]))<5):\n",
    "                predicted_list.append('bad gen')\n",
    "            else:\n",
    "                predicted_list.append(re.split('\\? |! |\\. ',output[b_idx])[4] + '.')\n",
    "            expected_list.append(val_data.InputSentence5.iloc[idx])\n",
    "            \n",
    "    outputs = pd.DataFrame()\n",
    "    outputs['inputs'] = inputs_list\n",
    "    outputs['predicted'] = predicted_list\n",
    "    outputs['expected'] = expected_list\n",
    "    \n",
    "    print(outputs[:5])\n",
    "\n",
    "            \n",
    "    \n",
    "    \n",
    "    data = {}\n",
    "    data['ex'] = []\n",
    "    for i in range(len(indexes_list)):\n",
    "        data['ex'].append({\n",
    "            'idx': indexes_list[i],\n",
    "            'input': inputs_list[i],\n",
    "            'prediction': predicted_list[i],\n",
    "            'expected': expected_list[i]\n",
    "\n",
    "        })\n",
    "\n",
    "    with open('test_cases/test_cases'+ str(iter)+'.json', 'w') as outfile:\n",
    "        json.dump(data, outfile)\n",
    "        \n",
    "save_results(1, 0)"
   ]
  },
  {
   "cell_type": "code",
   "execution_count": null,
   "id": "d4d7cefd-4a8d-49e4-a4d2-27e01653992c",
   "metadata": {},
   "outputs": [],
   "source": []
  }
 ],
 "metadata": {
  "kernelspec": {
   "display_name": "gpt23",
   "language": "python",
   "name": "gpt23"
  },
  "language_info": {
   "codemirror_mode": {
    "name": "ipython",
    "version": 3
   },
   "file_extension": ".py",
   "mimetype": "text/x-python",
   "name": "python",
   "nbconvert_exporter": "python",
   "pygments_lexer": "ipython3",
   "version": "3.8.5"
  }
 },
 "nbformat": 4,
 "nbformat_minor": 5
}
